{
 "cells": [
  {
   "cell_type": "markdown",
   "metadata": {},
   "source": [
    "## Part1.数据探索"
   ]
  },
  {
   "cell_type": "code",
   "execution_count": 1,
   "metadata": {},
   "outputs": [
    {
     "data": {
      "text/html": [
       "<div>\n",
       "<style scoped>\n",
       "    .dataframe tbody tr th:only-of-type {\n",
       "        vertical-align: middle;\n",
       "    }\n",
       "\n",
       "    .dataframe tbody tr th {\n",
       "        vertical-align: top;\n",
       "    }\n",
       "\n",
       "    .dataframe thead th {\n",
       "        text-align: right;\n",
       "    }\n",
       "</style>\n",
       "<table border=\"1\" class=\"dataframe\">\n",
       "  <thead>\n",
       "    <tr style=\"text-align: right;\">\n",
       "      <th></th>\n",
       "      <th>Type</th>\n",
       "      <th>Days for shipping (real)</th>\n",
       "      <th>Days for shipment (scheduled)</th>\n",
       "      <th>Benefit per order</th>\n",
       "      <th>Sales per customer</th>\n",
       "      <th>Delivery Status</th>\n",
       "      <th>Late_delivery_risk</th>\n",
       "      <th>Category Id</th>\n",
       "      <th>Category Name</th>\n",
       "      <th>Customer City</th>\n",
       "      <th>...</th>\n",
       "      <th>Order Zipcode</th>\n",
       "      <th>Product Card Id</th>\n",
       "      <th>Product Category Id</th>\n",
       "      <th>Product Description</th>\n",
       "      <th>Product Image</th>\n",
       "      <th>Product Name</th>\n",
       "      <th>Product Price</th>\n",
       "      <th>Product Status</th>\n",
       "      <th>shipping date (DateOrders)</th>\n",
       "      <th>Shipping Mode</th>\n",
       "    </tr>\n",
       "  </thead>\n",
       "  <tbody>\n",
       "    <tr>\n",
       "      <th>0</th>\n",
       "      <td>DEBIT</td>\n",
       "      <td>3</td>\n",
       "      <td>4</td>\n",
       "      <td>91.250000</td>\n",
       "      <td>314.640015</td>\n",
       "      <td>Advance shipping</td>\n",
       "      <td>0</td>\n",
       "      <td>73</td>\n",
       "      <td>Sporting Goods</td>\n",
       "      <td>Caguas</td>\n",
       "      <td>...</td>\n",
       "      <td>NaN</td>\n",
       "      <td>1360</td>\n",
       "      <td>73</td>\n",
       "      <td>NaN</td>\n",
       "      <td>http://images.acmesports.sports/Smart+watch</td>\n",
       "      <td>Smart watch</td>\n",
       "      <td>327.75</td>\n",
       "      <td>0</td>\n",
       "      <td>2/3/2018 22:56</td>\n",
       "      <td>Standard Class</td>\n",
       "    </tr>\n",
       "    <tr>\n",
       "      <th>1</th>\n",
       "      <td>TRANSFER</td>\n",
       "      <td>5</td>\n",
       "      <td>4</td>\n",
       "      <td>-249.089996</td>\n",
       "      <td>311.359985</td>\n",
       "      <td>Late delivery</td>\n",
       "      <td>1</td>\n",
       "      <td>73</td>\n",
       "      <td>Sporting Goods</td>\n",
       "      <td>Caguas</td>\n",
       "      <td>...</td>\n",
       "      <td>NaN</td>\n",
       "      <td>1360</td>\n",
       "      <td>73</td>\n",
       "      <td>NaN</td>\n",
       "      <td>http://images.acmesports.sports/Smart+watch</td>\n",
       "      <td>Smart watch</td>\n",
       "      <td>327.75</td>\n",
       "      <td>0</td>\n",
       "      <td>1/18/2018 12:27</td>\n",
       "      <td>Standard Class</td>\n",
       "    </tr>\n",
       "    <tr>\n",
       "      <th>2</th>\n",
       "      <td>CASH</td>\n",
       "      <td>4</td>\n",
       "      <td>4</td>\n",
       "      <td>-247.779999</td>\n",
       "      <td>309.720001</td>\n",
       "      <td>Shipping on time</td>\n",
       "      <td>0</td>\n",
       "      <td>73</td>\n",
       "      <td>Sporting Goods</td>\n",
       "      <td>San Jose</td>\n",
       "      <td>...</td>\n",
       "      <td>NaN</td>\n",
       "      <td>1360</td>\n",
       "      <td>73</td>\n",
       "      <td>NaN</td>\n",
       "      <td>http://images.acmesports.sports/Smart+watch</td>\n",
       "      <td>Smart watch</td>\n",
       "      <td>327.75</td>\n",
       "      <td>0</td>\n",
       "      <td>1/17/2018 12:06</td>\n",
       "      <td>Standard Class</td>\n",
       "    </tr>\n",
       "    <tr>\n",
       "      <th>3</th>\n",
       "      <td>DEBIT</td>\n",
       "      <td>3</td>\n",
       "      <td>4</td>\n",
       "      <td>22.860001</td>\n",
       "      <td>304.809998</td>\n",
       "      <td>Advance shipping</td>\n",
       "      <td>0</td>\n",
       "      <td>73</td>\n",
       "      <td>Sporting Goods</td>\n",
       "      <td>Los Angeles</td>\n",
       "      <td>...</td>\n",
       "      <td>NaN</td>\n",
       "      <td>1360</td>\n",
       "      <td>73</td>\n",
       "      <td>NaN</td>\n",
       "      <td>http://images.acmesports.sports/Smart+watch</td>\n",
       "      <td>Smart watch</td>\n",
       "      <td>327.75</td>\n",
       "      <td>0</td>\n",
       "      <td>1/16/2018 11:45</td>\n",
       "      <td>Standard Class</td>\n",
       "    </tr>\n",
       "    <tr>\n",
       "      <th>4</th>\n",
       "      <td>PAYMENT</td>\n",
       "      <td>2</td>\n",
       "      <td>4</td>\n",
       "      <td>134.210007</td>\n",
       "      <td>298.250000</td>\n",
       "      <td>Advance shipping</td>\n",
       "      <td>0</td>\n",
       "      <td>73</td>\n",
       "      <td>Sporting Goods</td>\n",
       "      <td>Caguas</td>\n",
       "      <td>...</td>\n",
       "      <td>NaN</td>\n",
       "      <td>1360</td>\n",
       "      <td>73</td>\n",
       "      <td>NaN</td>\n",
       "      <td>http://images.acmesports.sports/Smart+watch</td>\n",
       "      <td>Smart watch</td>\n",
       "      <td>327.75</td>\n",
       "      <td>0</td>\n",
       "      <td>1/15/2018 11:24</td>\n",
       "      <td>Standard Class</td>\n",
       "    </tr>\n",
       "  </tbody>\n",
       "</table>\n",
       "<p>5 rows × 53 columns</p>\n",
       "</div>"
      ],
      "text/plain": [
       "       Type  Days for shipping (real)  Days for shipment (scheduled)  \\\n",
       "0     DEBIT                         3                              4   \n",
       "1  TRANSFER                         5                              4   \n",
       "2      CASH                         4                              4   \n",
       "3     DEBIT                         3                              4   \n",
       "4   PAYMENT                         2                              4   \n",
       "\n",
       "   Benefit per order  Sales per customer   Delivery Status  \\\n",
       "0          91.250000          314.640015  Advance shipping   \n",
       "1        -249.089996          311.359985     Late delivery   \n",
       "2        -247.779999          309.720001  Shipping on time   \n",
       "3          22.860001          304.809998  Advance shipping   \n",
       "4         134.210007          298.250000  Advance shipping   \n",
       "\n",
       "   Late_delivery_risk  Category Id   Category Name Customer City  ...  \\\n",
       "0                   0           73  Sporting Goods        Caguas  ...   \n",
       "1                   1           73  Sporting Goods        Caguas  ...   \n",
       "2                   0           73  Sporting Goods      San Jose  ...   \n",
       "3                   0           73  Sporting Goods   Los Angeles  ...   \n",
       "4                   0           73  Sporting Goods        Caguas  ...   \n",
       "\n",
       "  Order Zipcode Product Card Id Product Category Id  Product Description  \\\n",
       "0           NaN            1360                  73                  NaN   \n",
       "1           NaN            1360                  73                  NaN   \n",
       "2           NaN            1360                  73                  NaN   \n",
       "3           NaN            1360                  73                  NaN   \n",
       "4           NaN            1360                  73                  NaN   \n",
       "\n",
       "                                  Product Image  Product Name Product Price  \\\n",
       "0  http://images.acmesports.sports/Smart+watch   Smart watch         327.75   \n",
       "1  http://images.acmesports.sports/Smart+watch   Smart watch         327.75   \n",
       "2  http://images.acmesports.sports/Smart+watch   Smart watch         327.75   \n",
       "3  http://images.acmesports.sports/Smart+watch   Smart watch         327.75   \n",
       "4  http://images.acmesports.sports/Smart+watch   Smart watch         327.75   \n",
       "\n",
       "  Product Status shipping date (DateOrders)   Shipping Mode  \n",
       "0              0             2/3/2018 22:56  Standard Class  \n",
       "1              0            1/18/2018 12:27  Standard Class  \n",
       "2              0            1/17/2018 12:06  Standard Class  \n",
       "3              0            1/16/2018 11:45  Standard Class  \n",
       "4              0            1/15/2018 11:24  Standard Class  \n",
       "\n",
       "[5 rows x 53 columns]"
      ]
     },
     "execution_count": 1,
     "metadata": {},
     "output_type": "execute_result"
    }
   ],
   "source": [
    "import pandas as pd\n",
    "# 数据加载\n",
    "data = pd.read_csv('./SupplyChain.csv',encoding='unicode-escape')\n",
    "data.head()"
   ]
  },
  {
   "cell_type": "code",
   "execution_count": 2,
   "metadata": {},
   "outputs": [
    {
     "data": {
      "text/plain": [
       "(180519, 53)"
      ]
     },
     "execution_count": 2,
     "metadata": {},
     "output_type": "execute_result"
    }
   ],
   "source": [
    "# 数据查看\n",
    "data.shape"
   ]
  },
  {
   "cell_type": "code",
   "execution_count": 3,
   "metadata": {},
   "outputs": [
    {
     "data": {
      "text/plain": [
       "Index(['Type', 'Days for shipping (real)', 'Days for shipment (scheduled)',\n",
       "       'Benefit per order', 'Sales per customer', 'Delivery Status',\n",
       "       'Late_delivery_risk', 'Category Id', 'Category Name', 'Customer City',\n",
       "       'Customer Country', 'Customer Email', 'Customer Fname', 'Customer Id',\n",
       "       'Customer Lname', 'Customer Password', 'Customer Segment',\n",
       "       'Customer State', 'Customer Street', 'Customer Zipcode',\n",
       "       'Department Id', 'Department Name', 'Latitude', 'Longitude', 'Market',\n",
       "       'Order City', 'Order Country', 'Order Customer Id',\n",
       "       'order date (DateOrders)', 'Order Id', 'Order Item Cardprod Id',\n",
       "       'Order Item Discount', 'Order Item Discount Rate', 'Order Item Id',\n",
       "       'Order Item Product Price', 'Order Item Profit Ratio',\n",
       "       'Order Item Quantity', 'Sales', 'Order Item Total',\n",
       "       'Order Profit Per Order', 'Order Region', 'Order State', 'Order Status',\n",
       "       'Order Zipcode', 'Product Card Id', 'Product Category Id',\n",
       "       'Product Description', 'Product Image', 'Product Name', 'Product Price',\n",
       "       'Product Status', 'shipping date (DateOrders)', 'Shipping Mode'],\n",
       "      dtype='object')"
      ]
     },
     "execution_count": 3,
     "metadata": {},
     "output_type": "execute_result"
    }
   ],
   "source": [
    "data.columns"
   ]
  },
  {
   "cell_type": "code",
   "execution_count": 4,
   "metadata": {},
   "outputs": [
    {
     "data": {
      "text/plain": [
       "Customer Lname              8\n",
       "Customer Zipcode            3\n",
       "Order Zipcode          155679\n",
       "Product Description    180519\n",
       "dtype: int64"
      ]
     },
     "execution_count": 4,
     "metadata": {},
     "output_type": "execute_result"
    }
   ],
   "source": [
    "# 查看为空的值\n",
    "temp = data.isnull().sum()\n",
    "temp[temp>0]"
   ]
  },
  {
   "cell_type": "code",
   "execution_count": 5,
   "metadata": {},
   "outputs": [],
   "source": [
    "# 对Customer Zipcode用0进行填充 ,\n",
    "data['Customer Zipcode'].value_counts()\n",
    "data['Customer Zipcode']=data['Customer Zipcode'].fillna(0)\n",
    "data['Customer Zipcode'].isnull().sum()\n",
    "\n",
    "#删除Order Zipcode，Product Description\n",
    "data.drop(['Order Zipcode','Product Description'], axis=1, inplace=True)"
   ]
  },
  {
   "cell_type": "code",
   "execution_count": 6,
   "metadata": {},
   "outputs": [
    {
     "data": {
      "text/plain": [
       "0            Holloway Cally\n",
       "1                Luna Irene\n",
       "2         Maldonado Gillian\n",
       "3                 Tate Tana\n",
       "4            Hendricks Orli\n",
       "                ...        \n",
       "180514       Peterson Maria\n",
       "180515         Clark Ronald\n",
       "180516           Smith John\n",
       "180517           Smith Mary\n",
       "180518        Ortega Andrea\n",
       "Name: Customer Name, Length: 180519, dtype: object"
      ]
     },
     "execution_count": 6,
     "metadata": {},
     "output_type": "execute_result"
    }
   ],
   "source": [
    "# 将名字进行合并\n",
    "data['Customer Name'] = data['Customer Lname']+' '+data['Customer Fname']\n",
    "data['Customer Name']"
   ]
  },
  {
   "cell_type": "code",
   "execution_count": 7,
   "metadata": {},
   "outputs": [
    {
     "data": {
      "text/plain": [
       "Index(['Type', 'Days for shipping (real)', 'Days for shipment (scheduled)',\n",
       "       'Benefit per order', 'Sales per customer', 'Delivery Status',\n",
       "       'Late_delivery_risk', 'Category Id', 'Category Name', 'Customer City',\n",
       "       'Customer Country', 'Customer Email', 'Customer Fname', 'Customer Id',\n",
       "       'Customer Lname', 'Customer Password', 'Customer Segment',\n",
       "       'Customer State', 'Customer Street', 'Customer Zipcode',\n",
       "       'Department Id', 'Department Name', 'Latitude', 'Longitude', 'Market',\n",
       "       'Order City', 'Order Country', 'Order Customer Id',\n",
       "       'order date (DateOrders)', 'Order Id', 'Order Item Cardprod Id',\n",
       "       'Order Item Discount', 'Order Item Discount Rate', 'Order Item Id',\n",
       "       'Order Item Product Price', 'Order Item Profit Ratio',\n",
       "       'Order Item Quantity', 'Sales', 'Order Item Total',\n",
       "       'Order Profit Per Order', 'Order Region', 'Order State', 'Order Status',\n",
       "       'Product Card Id', 'Product Category Id', 'Product Image',\n",
       "       'Product Name', 'Product Price', 'Product Status',\n",
       "       'shipping date (DateOrders)', 'Shipping Mode', 'Customer Name'],\n",
       "      dtype='object')"
      ]
     },
     "execution_count": 7,
     "metadata": {},
     "output_type": "execute_result"
    }
   ],
   "source": [
    "data.columns"
   ]
  },
  {
   "cell_type": "code",
   "execution_count": 8,
   "metadata": {
    "scrolled": true
   },
   "outputs": [
    {
     "data": {
      "text/plain": [
       "<bound method DataFrame.corr of             Type  Days for shipping (real)  Days for shipment (scheduled)  \\\n",
       "0          DEBIT                         3                              4   \n",
       "1       TRANSFER                         5                              4   \n",
       "2           CASH                         4                              4   \n",
       "3          DEBIT                         3                              4   \n",
       "4        PAYMENT                         2                              4   \n",
       "...          ...                       ...                            ...   \n",
       "180514      CASH                         4                              4   \n",
       "180515     DEBIT                         3                              2   \n",
       "180516  TRANSFER                         5                              4   \n",
       "180517   PAYMENT                         3                              4   \n",
       "180518   PAYMENT                         4                              4   \n",
       "\n",
       "        Benefit per order  Sales per customer   Delivery Status  \\\n",
       "0               91.250000          314.640015  Advance shipping   \n",
       "1             -249.089996          311.359985     Late delivery   \n",
       "2             -247.779999          309.720001  Shipping on time   \n",
       "3               22.860001          304.809998  Advance shipping   \n",
       "4              134.210007          298.250000  Advance shipping   \n",
       "...                   ...                 ...               ...   \n",
       "180514          40.000000          399.980011  Shipping on time   \n",
       "180515        -613.770019          395.980011     Late delivery   \n",
       "180516         141.110001          391.980011     Late delivery   \n",
       "180517         186.229996          387.980011  Advance shipping   \n",
       "180518         168.949997          383.980011  Shipping on time   \n",
       "\n",
       "        Late_delivery_risk  Category Id   Category Name Customer City  ...  \\\n",
       "0                        0           73  Sporting Goods        Caguas  ...   \n",
       "1                        1           73  Sporting Goods        Caguas  ...   \n",
       "2                        0           73  Sporting Goods      San Jose  ...   \n",
       "3                        0           73  Sporting Goods   Los Angeles  ...   \n",
       "4                        0           73  Sporting Goods        Caguas  ...   \n",
       "...                    ...          ...             ...           ...  ...   \n",
       "180514                   0           45         Fishing      Brooklyn  ...   \n",
       "180515                   1           45         Fishing   Bakersfield  ...   \n",
       "180516                   1           45         Fishing       Bristol  ...   \n",
       "180517                   0           45         Fishing        Caguas  ...   \n",
       "180518                   0           45         Fishing        Caguas  ...   \n",
       "\n",
       "           Order Status Product Card Id Product Category Id  \\\n",
       "0              COMPLETE            1360                  73   \n",
       "1               PENDING            1360                  73   \n",
       "2                CLOSED            1360                  73   \n",
       "3              COMPLETE            1360                  73   \n",
       "4       PENDING_PAYMENT            1360                  73   \n",
       "...                 ...             ...                 ...   \n",
       "180514           CLOSED            1004                  45   \n",
       "180515         COMPLETE            1004                  45   \n",
       "180516          PENDING            1004                  45   \n",
       "180517  PENDING_PAYMENT            1004                  45   \n",
       "180518  PENDING_PAYMENT            1004                  45   \n",
       "\n",
       "                                            Product Image  \\\n",
       "0            http://images.acmesports.sports/Smart+watch    \n",
       "1            http://images.acmesports.sports/Smart+watch    \n",
       "2            http://images.acmesports.sports/Smart+watch    \n",
       "3            http://images.acmesports.sports/Smart+watch    \n",
       "4            http://images.acmesports.sports/Smart+watch    \n",
       "...                                                   ...   \n",
       "180514  http://images.acmesports.sports/Field+%26+Stre...   \n",
       "180515  http://images.acmesports.sports/Field+%26+Stre...   \n",
       "180516  http://images.acmesports.sports/Field+%26+Stre...   \n",
       "180517  http://images.acmesports.sports/Field+%26+Stre...   \n",
       "180518  http://images.acmesports.sports/Field+%26+Stre...   \n",
       "\n",
       "                                     Product Name Product Price  \\\n",
       "0                                    Smart watch     327.750000   \n",
       "1                                    Smart watch     327.750000   \n",
       "2                                    Smart watch     327.750000   \n",
       "3                                    Smart watch     327.750000   \n",
       "4                                    Smart watch     327.750000   \n",
       "...                                           ...           ...   \n",
       "180514  Field & Stream Sportsman 16 Gun Fire Safe    399.980011   \n",
       "180515  Field & Stream Sportsman 16 Gun Fire Safe    399.980011   \n",
       "180516  Field & Stream Sportsman 16 Gun Fire Safe    399.980011   \n",
       "180517  Field & Stream Sportsman 16 Gun Fire Safe    399.980011   \n",
       "180518  Field & Stream Sportsman 16 Gun Fire Safe    399.980011   \n",
       "\n",
       "       Product Status shipping date (DateOrders)   Shipping Mode  \\\n",
       "0                   0             2/3/2018 22:56  Standard Class   \n",
       "1                   0            1/18/2018 12:27  Standard Class   \n",
       "2                   0            1/17/2018 12:06  Standard Class   \n",
       "3                   0            1/16/2018 11:45  Standard Class   \n",
       "4                   0            1/15/2018 11:24  Standard Class   \n",
       "...               ...                        ...             ...   \n",
       "180514              0             1/20/2016 3:40  Standard Class   \n",
       "180515              0             1/19/2016 1:34    Second Class   \n",
       "180516              0            1/20/2016 21:00  Standard Class   \n",
       "180517              0            1/18/2016 20:18  Standard Class   \n",
       "180518              0            1/19/2016 18:54  Standard Class   \n",
       "\n",
       "            Customer Name  \n",
       "0          Holloway Cally  \n",
       "1              Luna Irene  \n",
       "2       Maldonado Gillian  \n",
       "3               Tate Tana  \n",
       "4          Hendricks Orli  \n",
       "...                   ...  \n",
       "180514     Peterson Maria  \n",
       "180515       Clark Ronald  \n",
       "180516         Smith John  \n",
       "180517         Smith Mary  \n",
       "180518      Ortega Andrea  \n",
       "\n",
       "[180519 rows x 52 columns]>"
      ]
     },
     "execution_count": 8,
     "metadata": {},
     "output_type": "execute_result"
    }
   ],
   "source": [
    "# 绘制热力图查看特征相关性\n",
    "import matplotlib.pyplot as plt\n",
    "import seaborn as sns\n",
    "\n",
    "data.corr"
   ]
  },
  {
   "cell_type": "code",
   "execution_count": 9,
   "metadata": {},
   "outputs": [
    {
     "data": {
      "text/plain": [
       "<matplotlib.axes._subplots.AxesSubplot at 0x7eff49ab9ad0>"
      ]
     },
     "execution_count": 9,
     "metadata": {},
     "output_type": "execute_result"
    },
    {
     "data": {
      "image/png": "[encoded data removed]",
      "text/plain": [
       "<Figure size 432x288 with 2 Axes>"
      ]
     },
     "metadata": {
      "needs_background": "light"
     },
     "output_type": "display_data"
    }
   ],
   "source": [
    "sns.heatmap(data.corr() ,cmap='coolwarm')"
   ]
  },
  {
   "cell_type": "code",
   "execution_count": 10,
   "metadata": {},
   "outputs": [
    {
     "data": {
      "text/plain": [
       "<matplotlib.axes._subplots.AxesSubplot at 0x7eff4b72a110>"
      ]
     },
     "execution_count": 10,
     "metadata": {},
     "output_type": "execute_result"
    },
    {
     "data": {
      "image/png": "[encoded data removed]",
      "text/plain": [
       "<Figure size 432x288 with 1 Axes>"
      ]
     },
     "metadata": {
      "needs_background": "light"
     },
     "output_type": "display_data"
    }
   ],
   "source": [
    "# 基于Market 商场\n",
    "market=data.groupby('Market')\n",
    "#各个商场的总销售额\n",
    "market['Sales per customer'].sum().sort_values(ascending=False).plot.bar(title='Market Sales 商场销售额')"
   ]
  },
  {
   "cell_type": "code",
   "execution_count": 11,
   "metadata": {},
   "outputs": [
    {
     "data": {
      "text/plain": [
       "<matplotlib.axes._subplots.AxesSubplot at 0x7eff4b6a3e90>"
      ]
     },
     "execution_count": 11,
     "metadata": {},
     "output_type": "execute_result"
    },
    {
     "data": {
      "image/png": "[encoded data removed]",
      "text/plain": [
       "<Figure size 432x288 with 1 Axes>"
      ]
     },
     "metadata": {
      "needs_background": "light"
     },
     "output_type": "display_data"
    }
   ],
   "source": [
    "# 基于Order Region 订单区域\n",
    "Region = data.groupby('Order Region')\n",
    "# print(Region['Sales per customer'].describe())\n",
    "Region['Sales per customer'].sum().sort_values().plot.bar(title='Region区域销售额')"
   ]
  },
  {
   "cell_type": "code",
   "execution_count": 12,
   "metadata": {},
   "outputs": [
    {
     "data": {
      "text/plain": [
       "<matplotlib.axes._subplots.AxesSubplot at 0x7eff4b5d75d0>"
      ]
     },
     "execution_count": 12,
     "metadata": {},
     "output_type": "execute_result"
    },
    {
     "data": {
      "image/png": "[encoded data removed]",
      "text/plain": [
       "<Figure size 432x288 with 1 Axes>"
      ]
     },
     "metadata": {
      "needs_background": "light"
     },
     "output_type": "display_data"
    }
   ],
   "source": [
    "# 基于Category Name 商品类别\n",
    "Category = data.groupby('Category Name')\n",
    "Category['Sales per customer'].sum().sort_values().plot.bar(title='Category Name商品类别销售额')"
   ]
  },
  {
   "cell_type": "code",
   "execution_count": 13,
   "metadata": {},
   "outputs": [
    {
     "data": {
      "text/plain": [
       "DatetimeIndex(['2018-01-31 22:56:00', '2018-01-13 12:27:00',\n",
       "               '2018-01-13 12:06:00', '2018-01-13 11:45:00',\n",
       "               '2018-01-13 11:24:00', '2018-01-13 11:03:00',\n",
       "               '2018-01-13 10:42:00', '2018-01-13 10:21:00',\n",
       "               '2018-01-13 10:00:00', '2018-01-13 09:39:00',\n",
       "               ...\n",
       "               '2016-01-16 06:49:00', '2016-01-16 06:49:00',\n",
       "               '2016-01-16 06:28:00', '2016-01-16 06:07:00',\n",
       "               '2016-01-16 05:04:00', '2016-01-16 03:40:00',\n",
       "               '2016-01-16 01:34:00', '2016-01-15 21:00:00',\n",
       "               '2016-01-15 20:18:00', '2016-01-15 18:54:00'],\n",
       "              dtype='datetime64[ns]', name='order date (DateOrders)', length=180519, freq=None)"
      ]
     },
     "execution_count": 13,
     "metadata": {},
     "output_type": "execute_result"
    }
   ],
   "source": [
    "# 按照不同的时间维度（年，月，星期，小时）的趋势\n",
    "# Product Price(商品价格)与Sales per customer(每个顾客的总销售额)相关性如何\n",
    "# 订单下单日期order date (DateOrders)\n",
    "# 转换成时间戳索引\n",
    "temp=pd.DatetimeIndex(data['order date (DateOrders)'])\n",
    "temp"
   ]
  },
  {
   "cell_type": "code",
   "execution_count": 14,
   "metadata": {},
   "outputs": [],
   "source": [
    "# 获取不同尺度的时间\n",
    "data['order_year'] = temp.year # 年\n",
    "data['order_month'] = temp.month # 月\n",
    "data['order_week_day'] = temp.weekday # 周\n",
    "data['order_day'] = temp.weekday # 天\n",
    "data['order_hour'] = temp.hour # 小时\n",
    "data['order_month_year'] = temp.to_period('M') # 年月\n"
   ]
  },
  {
   "cell_type": "code",
   "execution_count": 15,
   "metadata": {},
   "outputs": [
    {
     "data": {
      "text/plain": [
       "<matplotlib.axes._subplots.AxesSubplot at 0x7eff4b390d90>"
      ]
     },
     "execution_count": 15,
     "metadata": {},
     "output_type": "execute_result"
    },
    {
     "data": {
      "image/png": "[encoded data removed]",
      "text/plain": [
       "<Figure size 1440x720 with 4 Axes>"
      ]
     },
     "metadata": {
      "needs_background": "light"
     },
     "output_type": "display_data"
    }
   ],
   "source": [
    "plt.figure(figsize=(20,10))\n",
    "#年均销量\n",
    "plt.subplot(2,2,1)\n",
    "data_year = data.groupby('order_year')\n",
    "data_year['Sales'].mean().plot(title='年均销量')\n",
    "\n",
    "#月均销量\n",
    "plt.subplot(2,2,2)\n",
    "data_mon = data.groupby('order_month')\n",
    "data_mon['Sales'].mean().plot(title='月均销量')\n",
    "\n",
    "#周均销量\n",
    "plt.subplot(2,2,3)\n",
    "data_week = data.groupby('order_week_day')\n",
    "data_week['Sales'].sum().plot(title='周均销量')\n",
    "\n",
    "#日均销量\n",
    "plt.subplot(2,2,4)\n",
    "data_week = data.groupby('order_day')\n",
    "data_week['Sales'].sum().plot(title='日均销量')"
   ]
  },
  {
   "cell_type": "code",
   "execution_count": 16,
   "metadata": {},
   "outputs": [
    {
     "data": {
      "text/plain": [
       "<matplotlib.axes._subplots.AxesSubplot at 0x7eff4b2f5250>"
      ]
     },
     "execution_count": 16,
     "metadata": {},
     "output_type": "execute_result"
    },
    {
     "data": {
      "image/png": "[encoded data removed]",
      "text/plain": [
       "<Figure size 432x288 with 1 Axes>"
      ]
     },
     "metadata": {
      "needs_background": "light"
     },
     "output_type": "display_data"
    }
   ],
   "source": [
    "# 查看Product Price与Sales per customer 相关性如何\n",
    "data.plot(x='Product Price',y='Sales per customer') # 价格越高卖的越好"
   ]
  },
  {
   "cell_type": "markdown",
   "metadata": {},
   "source": [
    "## Part2.对用户进行分层"
   ]
  },
  {
   "cell_type": "code",
   "execution_count": 17,
   "metadata": {},
   "outputs": [
    {
     "data": {
      "text/plain": [
       "Timestamp('2018-01-31 23:38:00')"
      ]
     },
     "execution_count": 17,
     "metadata": {},
     "output_type": "execute_result"
    }
   ],
   "source": [
    "# step1.统计每个ID最后一笔订单的时间\n",
    "data['order date (DateOrders)'] = pd.to_datetime(data['order date (DateOrders)']).max()\n",
    "data['order date (DateOrders)'].max()"
   ]
  },
  {
   "cell_type": "code",
   "execution_count": 18,
   "metadata": {},
   "outputs": [
    {
     "data": {
      "text/plain": [
       "datetime.datetime(2018, 2, 2, 0, 0)"
      ]
     },
     "execution_count": 18,
     "metadata": {},
     "output_type": "execute_result"
    }
   ],
   "source": [
    "# 设现在的时间为 2018-02-02\n",
    "import datetime\n",
    "present = datetime.datetime(2018,2,2)\n",
    "present"
   ]
  },
  {
   "cell_type": "code",
   "execution_count": 19,
   "metadata": {},
   "outputs": [
    {
     "data": {
      "text/html": [
       "<div>\n",
       "<style scoped>\n",
       "    .dataframe tbody tr th:only-of-type {\n",
       "        vertical-align: middle;\n",
       "    }\n",
       "\n",
       "    .dataframe tbody tr th {\n",
       "        vertical-align: top;\n",
       "    }\n",
       "\n",
       "    .dataframe thead th {\n",
       "        text-align: right;\n",
       "    }\n",
       "</style>\n",
       "<table border=\"1\" class=\"dataframe\">\n",
       "  <thead>\n",
       "    <tr style=\"text-align: right;\">\n",
       "      <th></th>\n",
       "      <th>R_Value</th>\n",
       "      <th>F_Value</th>\n",
       "      <th>M_Value</th>\n",
       "    </tr>\n",
       "    <tr>\n",
       "      <th>Order Customer Id</th>\n",
       "      <th></th>\n",
       "      <th></th>\n",
       "      <th></th>\n",
       "    </tr>\n",
       "  </thead>\n",
       "  <tbody>\n",
       "    <tr>\n",
       "      <th>1</th>\n",
       "      <td>1</td>\n",
       "      <td>1</td>\n",
       "      <td>499.950012</td>\n",
       "    </tr>\n",
       "    <tr>\n",
       "      <th>2</th>\n",
       "      <td>1</td>\n",
       "      <td>10</td>\n",
       "      <td>1819.730034</td>\n",
       "    </tr>\n",
       "    <tr>\n",
       "      <th>3</th>\n",
       "      <td>1</td>\n",
       "      <td>18</td>\n",
       "      <td>3537.680094</td>\n",
       "    </tr>\n",
       "    <tr>\n",
       "      <th>4</th>\n",
       "      <td>1</td>\n",
       "      <td>14</td>\n",
       "      <td>1719.630030</td>\n",
       "    </tr>\n",
       "    <tr>\n",
       "      <th>5</th>\n",
       "      <td>1</td>\n",
       "      <td>7</td>\n",
       "      <td>1274.750023</td>\n",
       "    </tr>\n",
       "    <tr>\n",
       "      <th>...</th>\n",
       "      <td>...</td>\n",
       "      <td>...</td>\n",
       "      <td>...</td>\n",
       "    </tr>\n",
       "    <tr>\n",
       "      <th>20753</th>\n",
       "      <td>1</td>\n",
       "      <td>1</td>\n",
       "      <td>215.820007</td>\n",
       "    </tr>\n",
       "    <tr>\n",
       "      <th>20754</th>\n",
       "      <td>1</td>\n",
       "      <td>1</td>\n",
       "      <td>215.820007</td>\n",
       "    </tr>\n",
       "    <tr>\n",
       "      <th>20755</th>\n",
       "      <td>1</td>\n",
       "      <td>1</td>\n",
       "      <td>327.750000</td>\n",
       "    </tr>\n",
       "    <tr>\n",
       "      <th>20756</th>\n",
       "      <td>1</td>\n",
       "      <td>1</td>\n",
       "      <td>11.540000</td>\n",
       "    </tr>\n",
       "    <tr>\n",
       "      <th>20757</th>\n",
       "      <td>1</td>\n",
       "      <td>1</td>\n",
       "      <td>39.750000</td>\n",
       "    </tr>\n",
       "  </tbody>\n",
       "</table>\n",
       "<p>20652 rows × 3 columns</p>\n",
       "</div>"
      ],
      "text/plain": [
       "                   R_Value  F_Value      M_Value\n",
       "Order Customer Id                               \n",
       "1                        1        1   499.950012\n",
       "2                        1       10  1819.730034\n",
       "3                        1       18  3537.680094\n",
       "4                        1       14  1719.630030\n",
       "5                        1        7  1274.750023\n",
       "...                    ...      ...          ...\n",
       "20753                    1        1   215.820007\n",
       "20754                    1        1   215.820007\n",
       "20755                    1        1   327.750000\n",
       "20756                    1        1    11.540000\n",
       "20757                    1        1    39.750000\n",
       "\n",
       "[20652 rows x 3 columns]"
      ]
     },
     "execution_count": 19,
     "metadata": {},
     "output_type": "execute_result"
    }
   ],
   "source": [
    "# step2.计算每个用户的RMF指标\n",
    "# 按照Order Customer Id(订单的客户ID)进行聚合，计算Recency (时间间隔)， Frequency(消费频率，订单总数) ， Monetary(消费金额)\n",
    "cust_seg = data.groupby('Order Customer Id').agg({'order date (DateOrders)': lambda x:(present - x.max()).days ,\n",
    "                                                  'Order Id': lambda x:len(x) ,\n",
    "                                                  'Sales': lambda x:x.sum()})\n",
    "                                    \n",
    "# # 将字段名称改为R_Value ， F_Value , M_Value\n",
    "cust_seg.rename(columns={'order date (DateOrders)':'R_Value',\n",
    "                         'Order Id':'F_Value',\n",
    "                         'Sales':'M_Value'},inplace = True)\n",
    "cust_seg"
   ]
  },
  {
   "cell_type": "code",
   "execution_count": 20,
   "metadata": {},
   "outputs": [
    {
     "data": {
      "text/plain": [
       "{'R_Value': {0.25: 1.0, 0.5: 1.0, 0.75: 1.0},\n",
       " 'F_Value': {0.25: 1.0, 0.5: 7.0, 0.75: 15.0},\n",
       " 'M_Value': {0.25: 293.0400085, 0.5: 1499.82503324, 0.75: 2915.8800654175}}"
      ]
     },
     "execution_count": 20,
     "metadata": {},
     "output_type": "execute_result"
    }
   ],
   "source": [
    "# step3.等级划分\n",
    "quantiles = cust_seg.quantile(q=[0.25, 0.5, 0.75]).to_dict()\n",
    "quantiles"
   ]
  },
  {
   "cell_type": "code",
   "execution_count": 21,
   "metadata": {},
   "outputs": [],
   "source": [
    "# Recency =>4 越小越好\n",
    "def R_Score(a,b,c):\n",
    "    if a < c[b][0.25]:\n",
    "        return 4\n",
    "    elif a < c[b][0.5]:\n",
    "        return 3\n",
    "    elif a < c[b][0.75]:\n",
    "        return 2 \n",
    "    return 1\n",
    "\n",
    "# Frequency =>4 越大越好\n",
    "def F_Score(a,b,c):\n",
    "    if a < c[b][0.25]:\n",
    "        return 1\n",
    "    elif a < c[b][0.5]:\n",
    "        return 2\n",
    "    elif a < c[b][0.75]:\n",
    "        return 3 \n",
    "    return 4\n",
    "\n",
    "# Monetary =>4 越大越好\n",
    "def M_Score(a,b,c):\n",
    "    if a < c[b][0.25]:\n",
    "        return 1\n",
    "    elif a < c[b][0.5]:\n",
    "        return 2\n",
    "    elif a < c[b][0.75]:\n",
    "        return 3 \n",
    "    return 4"
   ]
  },
  {
   "cell_type": "code",
   "execution_count": 22,
   "metadata": {},
   "outputs": [
    {
     "data": {
      "text/html": [
       "<div>\n",
       "<style scoped>\n",
       "    .dataframe tbody tr th:only-of-type {\n",
       "        vertical-align: middle;\n",
       "    }\n",
       "\n",
       "    .dataframe tbody tr th {\n",
       "        vertical-align: top;\n",
       "    }\n",
       "\n",
       "    .dataframe thead th {\n",
       "        text-align: right;\n",
       "    }\n",
       "</style>\n",
       "<table border=\"1\" class=\"dataframe\">\n",
       "  <thead>\n",
       "    <tr style=\"text-align: right;\">\n",
       "      <th></th>\n",
       "      <th>R_Value</th>\n",
       "      <th>F_Value</th>\n",
       "      <th>M_Value</th>\n",
       "      <th>R_Score</th>\n",
       "      <th>F_Score</th>\n",
       "      <th>M_Score</th>\n",
       "    </tr>\n",
       "    <tr>\n",
       "      <th>Order Customer Id</th>\n",
       "      <th></th>\n",
       "      <th></th>\n",
       "      <th></th>\n",
       "      <th></th>\n",
       "      <th></th>\n",
       "      <th></th>\n",
       "    </tr>\n",
       "  </thead>\n",
       "  <tbody>\n",
       "    <tr>\n",
       "      <th>1</th>\n",
       "      <td>1</td>\n",
       "      <td>1</td>\n",
       "      <td>499.950012</td>\n",
       "      <td>1</td>\n",
       "      <td>2</td>\n",
       "      <td>2</td>\n",
       "    </tr>\n",
       "    <tr>\n",
       "      <th>2</th>\n",
       "      <td>1</td>\n",
       "      <td>10</td>\n",
       "      <td>1819.730034</td>\n",
       "      <td>1</td>\n",
       "      <td>3</td>\n",
       "      <td>3</td>\n",
       "    </tr>\n",
       "    <tr>\n",
       "      <th>3</th>\n",
       "      <td>1</td>\n",
       "      <td>18</td>\n",
       "      <td>3537.680094</td>\n",
       "      <td>1</td>\n",
       "      <td>4</td>\n",
       "      <td>4</td>\n",
       "    </tr>\n",
       "    <tr>\n",
       "      <th>4</th>\n",
       "      <td>1</td>\n",
       "      <td>14</td>\n",
       "      <td>1719.630030</td>\n",
       "      <td>1</td>\n",
       "      <td>3</td>\n",
       "      <td>3</td>\n",
       "    </tr>\n",
       "    <tr>\n",
       "      <th>5</th>\n",
       "      <td>1</td>\n",
       "      <td>7</td>\n",
       "      <td>1274.750023</td>\n",
       "      <td>1</td>\n",
       "      <td>3</td>\n",
       "      <td>2</td>\n",
       "    </tr>\n",
       "    <tr>\n",
       "      <th>...</th>\n",
       "      <td>...</td>\n",
       "      <td>...</td>\n",
       "      <td>...</td>\n",
       "      <td>...</td>\n",
       "      <td>...</td>\n",
       "      <td>...</td>\n",
       "    </tr>\n",
       "    <tr>\n",
       "      <th>20753</th>\n",
       "      <td>1</td>\n",
       "      <td>1</td>\n",
       "      <td>215.820007</td>\n",
       "      <td>1</td>\n",
       "      <td>2</td>\n",
       "      <td>1</td>\n",
       "    </tr>\n",
       "    <tr>\n",
       "      <th>20754</th>\n",
       "      <td>1</td>\n",
       "      <td>1</td>\n",
       "      <td>215.820007</td>\n",
       "      <td>1</td>\n",
       "      <td>2</td>\n",
       "      <td>1</td>\n",
       "    </tr>\n",
       "    <tr>\n",
       "      <th>20755</th>\n",
       "      <td>1</td>\n",
       "      <td>1</td>\n",
       "      <td>327.750000</td>\n",
       "      <td>1</td>\n",
       "      <td>2</td>\n",
       "      <td>2</td>\n",
       "    </tr>\n",
       "    <tr>\n",
       "      <th>20756</th>\n",
       "      <td>1</td>\n",
       "      <td>1</td>\n",
       "      <td>11.540000</td>\n",
       "      <td>1</td>\n",
       "      <td>2</td>\n",
       "      <td>1</td>\n",
       "    </tr>\n",
       "    <tr>\n",
       "      <th>20757</th>\n",
       "      <td>1</td>\n",
       "      <td>1</td>\n",
       "      <td>39.750000</td>\n",
       "      <td>1</td>\n",
       "      <td>2</td>\n",
       "      <td>1</td>\n",
       "    </tr>\n",
       "  </tbody>\n",
       "</table>\n",
       "<p>20652 rows × 6 columns</p>\n",
       "</div>"
      ],
      "text/plain": [
       "                   R_Value  F_Value      M_Value  R_Score  F_Score  M_Score\n",
       "Order Customer Id                                                          \n",
       "1                        1        1   499.950012        1        2        2\n",
       "2                        1       10  1819.730034        1        3        3\n",
       "3                        1       18  3537.680094        1        4        4\n",
       "4                        1       14  1719.630030        1        3        3\n",
       "5                        1        7  1274.750023        1        3        2\n",
       "...                    ...      ...          ...      ...      ...      ...\n",
       "20753                    1        1   215.820007        1        2        1\n",
       "20754                    1        1   215.820007        1        2        1\n",
       "20755                    1        1   327.750000        1        2        2\n",
       "20756                    1        1    11.540000        1        2        1\n",
       "20757                    1        1    39.750000        1        2        1\n",
       "\n",
       "[20652 rows x 6 columns]"
      ]
     },
     "execution_count": 22,
     "metadata": {},
     "output_type": "execute_result"
    }
   ],
   "source": [
    "# 新建R_Score , 用于将R_value =>[1,4]\n",
    "cust_seg['R_Score'] = cust_seg['R_Value'].apply(R_Score,args=('R_Value',quantiles))\n",
    "cust_seg['F_Score'] = cust_seg['F_Value'].apply(F_Score,args=('F_Value',quantiles))\n",
    "cust_seg['M_Score'] = cust_seg['M_Value'].apply(M_Score,args=('M_Value',quantiles))\n",
    "cust_seg"
   ]
  },
  {
   "cell_type": "code",
   "execution_count": 23,
   "metadata": {},
   "outputs": [],
   "source": [
    "# step4，按照RFM对用户进行分层\n",
    "# 用户分类\t最近一次消费时间间隔（R）\t消费频率（F）\t消费金额（M）\n",
    "# 1、重要价值用户\t高\t高\t高\n",
    "# 2、重要发展用户\t高\t低\t高\n",
    "# 3、重要保持用户\t低\t高\t高\n",
    "# 4、重要挽留用户\t低\t低\t高\n",
    "# 5、一般价值用户\t高\t高\t低\n",
    "# 6、一般发展用户\t高\t低\t低\n",
    "# 7、一般保持用户\t低\t高\t低\n",
    "# 8、一般挽留用户\t低\t低\t低\n",
    "\n",
    "def RFM(df):\n",
    "    if df['R_Score'] > 2 and df['F_Score'] >2 and df['M_Score'] > 2 :\n",
    "        return '重要价值用户'\n",
    "    \n",
    "    elif df['R_Score'] > 2 and df['F_Score'] <=2 and df['M_Score'] > 2 :\n",
    "        return '重要发展用户'\n",
    "    \n",
    "    elif df['R_Score'] <= 2 and df['F_Score'] >2 and df['M_Score'] > 2:\n",
    "        return '重要保持用户'\n",
    "    \n",
    "    elif df['R_Score'] <= 2 and df['F_Score'] <= 2 and df['M_Score'] > 2 :\n",
    "        return '重要挽留用户'\n",
    "    \n",
    "    elif df['R_Score'] > 2 and df['F_Score'] >2 and df['M_Score'] <= 2 :\n",
    "        return '重要价值用户'\n",
    "    \n",
    "    elif df['R_Score'] > 2 and df['F_Score'] <= 2 and df['M_Score'] <= 2:\n",
    "        return '重要价值用户'\n",
    "    \n",
    "    elif df['R_Score'] < 2 and df['F_Score'] >2 and df['M_Score']  <= 2:\n",
    "        return '重要价值用户'\n",
    "    \n",
    "    return '一般挽留用户'\n"
   ]
  },
  {
   "cell_type": "code",
   "execution_count": 24,
   "metadata": {},
   "outputs": [
    {
     "data": {
      "text/html": [
       "<div>\n",
       "<style scoped>\n",
       "    .dataframe tbody tr th:only-of-type {\n",
       "        vertical-align: middle;\n",
       "    }\n",
       "\n",
       "    .dataframe tbody tr th {\n",
       "        vertical-align: top;\n",
       "    }\n",
       "\n",
       "    .dataframe thead th {\n",
       "        text-align: right;\n",
       "    }\n",
       "</style>\n",
       "<table border=\"1\" class=\"dataframe\">\n",
       "  <thead>\n",
       "    <tr style=\"text-align: right;\">\n",
       "      <th></th>\n",
       "      <th>R_Value</th>\n",
       "      <th>F_Value</th>\n",
       "      <th>M_Value</th>\n",
       "      <th>R_Score</th>\n",
       "      <th>F_Score</th>\n",
       "      <th>M_Score</th>\n",
       "      <th>Customer_Segmentation</th>\n",
       "    </tr>\n",
       "    <tr>\n",
       "      <th>Order Customer Id</th>\n",
       "      <th></th>\n",
       "      <th></th>\n",
       "      <th></th>\n",
       "      <th></th>\n",
       "      <th></th>\n",
       "      <th></th>\n",
       "      <th></th>\n",
       "    </tr>\n",
       "  </thead>\n",
       "  <tbody>\n",
       "    <tr>\n",
       "      <th>1</th>\n",
       "      <td>1</td>\n",
       "      <td>1</td>\n",
       "      <td>499.950012</td>\n",
       "      <td>1</td>\n",
       "      <td>2</td>\n",
       "      <td>2</td>\n",
       "      <td>一般挽留用户</td>\n",
       "    </tr>\n",
       "    <tr>\n",
       "      <th>2</th>\n",
       "      <td>1</td>\n",
       "      <td>10</td>\n",
       "      <td>1819.730034</td>\n",
       "      <td>1</td>\n",
       "      <td>3</td>\n",
       "      <td>3</td>\n",
       "      <td>重要保持用户</td>\n",
       "    </tr>\n",
       "    <tr>\n",
       "      <th>3</th>\n",
       "      <td>1</td>\n",
       "      <td>18</td>\n",
       "      <td>3537.680094</td>\n",
       "      <td>1</td>\n",
       "      <td>4</td>\n",
       "      <td>4</td>\n",
       "      <td>重要保持用户</td>\n",
       "    </tr>\n",
       "    <tr>\n",
       "      <th>4</th>\n",
       "      <td>1</td>\n",
       "      <td>14</td>\n",
       "      <td>1719.630030</td>\n",
       "      <td>1</td>\n",
       "      <td>3</td>\n",
       "      <td>3</td>\n",
       "      <td>重要保持用户</td>\n",
       "    </tr>\n",
       "    <tr>\n",
       "      <th>5</th>\n",
       "      <td>1</td>\n",
       "      <td>7</td>\n",
       "      <td>1274.750023</td>\n",
       "      <td>1</td>\n",
       "      <td>3</td>\n",
       "      <td>2</td>\n",
       "      <td>重要价值用户</td>\n",
       "    </tr>\n",
       "    <tr>\n",
       "      <th>...</th>\n",
       "      <td>...</td>\n",
       "      <td>...</td>\n",
       "      <td>...</td>\n",
       "      <td>...</td>\n",
       "      <td>...</td>\n",
       "      <td>...</td>\n",
       "      <td>...</td>\n",
       "    </tr>\n",
       "    <tr>\n",
       "      <th>20753</th>\n",
       "      <td>1</td>\n",
       "      <td>1</td>\n",
       "      <td>215.820007</td>\n",
       "      <td>1</td>\n",
       "      <td>2</td>\n",
       "      <td>1</td>\n",
       "      <td>一般挽留用户</td>\n",
       "    </tr>\n",
       "    <tr>\n",
       "      <th>20754</th>\n",
       "      <td>1</td>\n",
       "      <td>1</td>\n",
       "      <td>215.820007</td>\n",
       "      <td>1</td>\n",
       "      <td>2</td>\n",
       "      <td>1</td>\n",
       "      <td>一般挽留用户</td>\n",
       "    </tr>\n",
       "    <tr>\n",
       "      <th>20755</th>\n",
       "      <td>1</td>\n",
       "      <td>1</td>\n",
       "      <td>327.750000</td>\n",
       "      <td>1</td>\n",
       "      <td>2</td>\n",
       "      <td>2</td>\n",
       "      <td>一般挽留用户</td>\n",
       "    </tr>\n",
       "    <tr>\n",
       "      <th>20756</th>\n",
       "      <td>1</td>\n",
       "      <td>1</td>\n",
       "      <td>11.540000</td>\n",
       "      <td>1</td>\n",
       "      <td>2</td>\n",
       "      <td>1</td>\n",
       "      <td>一般挽留用户</td>\n",
       "    </tr>\n",
       "    <tr>\n",
       "      <th>20757</th>\n",
       "      <td>1</td>\n",
       "      <td>1</td>\n",
       "      <td>39.750000</td>\n",
       "      <td>1</td>\n",
       "      <td>2</td>\n",
       "      <td>1</td>\n",
       "      <td>一般挽留用户</td>\n",
       "    </tr>\n",
       "  </tbody>\n",
       "</table>\n",
       "<p>20652 rows × 7 columns</p>\n",
       "</div>"
      ],
      "text/plain": [
       "                   R_Value  F_Value      M_Value  R_Score  F_Score  M_Score  \\\n",
       "Order Customer Id                                                             \n",
       "1                        1        1   499.950012        1        2        2   \n",
       "2                        1       10  1819.730034        1        3        3   \n",
       "3                        1       18  3537.680094        1        4        4   \n",
       "4                        1       14  1719.630030        1        3        3   \n",
       "5                        1        7  1274.750023        1        3        2   \n",
       "...                    ...      ...          ...      ...      ...      ...   \n",
       "20753                    1        1   215.820007        1        2        1   \n",
       "20754                    1        1   215.820007        1        2        1   \n",
       "20755                    1        1   327.750000        1        2        2   \n",
       "20756                    1        1    11.540000        1        2        1   \n",
       "20757                    1        1    39.750000        1        2        1   \n",
       "\n",
       "                  Customer_Segmentation  \n",
       "Order Customer Id                        \n",
       "1                                一般挽留用户  \n",
       "2                                重要保持用户  \n",
       "3                                重要保持用户  \n",
       "4                                重要保持用户  \n",
       "5                                重要价值用户  \n",
       "...                                 ...  \n",
       "20753                            一般挽留用户  \n",
       "20754                            一般挽留用户  \n",
       "20755                            一般挽留用户  \n",
       "20756                            一般挽留用户  \n",
       "20757                            一般挽留用户  \n",
       "\n",
       "[20652 rows x 7 columns]"
      ]
     },
     "execution_count": 24,
     "metadata": {},
     "output_type": "execute_result"
    }
   ],
   "source": [
    "cust_seg['Customer_Segmentation'] = cust_seg.apply(RFM, axis=1)\n",
    "cust_seg"
   ]
  },
  {
   "cell_type": "code",
   "execution_count": 25,
   "metadata": {},
   "outputs": [],
   "source": [
    "# 不同地区的支付类型情况\n",
    "pay_DEBIT = data[data['Type'] == 'DEBIT']\n",
    "pay_TRANSFER = data[data['Type'] == 'TRANSFER']\n",
    "pay_PAYMENT = data[data['Type'] == 'PAYMENT']\n",
    "pay_CASH = data[data['Type'] == 'CASH']\n",
    "# 各区域各付类型数量\n",
    "count_DEBIT = pay_DEBIT['Order Region'].value_counts()\n",
    "count_TRANSFER = pay_TRANSFER['Order Region'].value_counts()\n",
    "count_PAYMENT = pay_PAYMENT['Order Region'].value_counts()\n",
    "count_CASH = pay_CASH['Order Region'].value_counts()\n"
   ]
  },
  {
   "cell_type": "code",
   "execution_count": 26,
   "metadata": {},
   "outputs": [
    {
     "data": {
      "image/png": "[encoded data removed]",
      "text/plain": [
       "<Figure size 1440x720 with 1 Axes>"
      ]
     },
     "metadata": {
      "needs_background": "light"
     },
     "output_type": "display_data"
    }
   ],
   "source": [
    "# 展示各地区不同支付方式数量情况\n",
    "import numpy as np\n",
    "region_num=len(count_DEBIT)\n",
    "plt.figure(figsize=(20,10))\n",
    "x = np.arange(region_num)+1\n",
    "y1 = plt.bar(x , count_DEBIT, width=0.2 ,label='DEBIT')\n",
    "y2 = plt.bar(x+0.2 , count_TRANSFER, width=0.2,label='TRANSFER')\n",
    "y3 = plt.bar(x+0.4, count_PAYMENT, width=0.2,label='PAYMENT')\n",
    "y4 = plt.bar(x+0.6, count_CASH, width=0.2,label='CASH')\n",
    "plt.xlabel('Order Region 支付类型')\n",
    "plt.ylabel('Num of payments 支付数量')\n",
    "plt.title('各地区不同类型支付情况')\n",
    "plt.legend()\n",
    "\n",
    "# 显示刻度\n",
    "names = data['Order Region'].value_counts().keys()\n",
    "plt.xticks(x , names , rotation='vertical')\n",
    "plt.show()"
   ]
  },
  {
   "cell_type": "code",
   "execution_count": 27,
   "metadata": {},
   "outputs": [
    {
     "data": {
      "text/plain": [
       "<matplotlib.axes._subplots.AxesSubplot at 0x7eff4c8351d0>"
      ]
     },
     "execution_count": 27,
     "metadata": {},
     "output_type": "execute_result"
    },
    {
     "data": {
      "image/png": "[encoded data removed]",
      "text/plain": [
       "<Figure size 1440x360 with 1 Axes>"
      ]
     },
     "metadata": {
      "needs_background": "light"
     },
     "output_type": "display_data"
    }
   ],
   "source": [
    "# 对商品收益进行探索 ,负top10的商品\n",
    "data['Product Name'].value_counts().nsmallest(10).plot.bar(figsize=(20,5))\n",
    "# top10 = data['Product Name'].value_counts().nlargest(10)"
   ]
  },
  {
   "cell_type": "code",
   "execution_count": 28,
   "metadata": {},
   "outputs": [
    {
     "data": {
      "text/plain": [
       "<matplotlib.axes._subplots.AxesSubplot at 0x7eff4a006dd0>"
      ]
     },
     "execution_count": 28,
     "metadata": {},
     "output_type": "execute_result"
    },
    {
     "data": {
      "image/png": "[encoded data removed]",
      "text/plain": [
       "<Figure size 1440x360 with 1 Axes>"
      ]
     },
     "metadata": {
      "needs_background": "light"
     },
     "output_type": "display_data"
    }
   ],
   "source": [
    "# 商品销售量top10的地区\n",
    "data['Order Region'].value_counts().nsmallest(10).plot.bar(figsize=(20,5))"
   ]
  },
  {
   "cell_type": "code",
   "execution_count": 29,
   "metadata": {},
   "outputs": [
    {
     "data": {
      "text/plain": [
       "TRANSFER    4062\n",
       "Name: Type, dtype: int64"
      ]
     },
     "execution_count": 29,
     "metadata": {},
     "output_type": "execute_result"
    }
   ],
   "source": [
    "# 负收益可能是欺诈交易的支付方式\n",
    "data[data['Order Status'] == 'SUSPECTED_FRAUD']['Type'].value_counts()"
   ]
  },
  {
   "cell_type": "code",
   "execution_count": 30,
   "metadata": {},
   "outputs": [
    {
     "data": {
      "text/plain": [
       "Text(0, 0.5, 'Order Region 区域')"
      ]
     },
     "execution_count": 30,
     "metadata": {},
     "output_type": "execute_result"
    },
    {
     "data": {
      "image/png": "[encoded data removed]",
      "text/plain": [
       "<Figure size 1440x432 with 1 Axes>"
      ]
     },
     "metadata": {
      "needs_background": "light"
     },
     "output_type": "display_data"
    }
   ],
   "source": [
    "# 不同地区的欺诈交易情况\n",
    "data[data['Order Status'] == 'SUSPECTED_FRAUD']['Order Region'].value_counts().plot.bar(figsize=(20,6),color='r')\n",
    "plt.title('欺诈交易情况分析')\n",
    "plt.xlabel('Nums of SUSPECTED FRAUD 欺诈订单笔数')\n",
    "plt.ylabel('Order Region 区域')"
   ]
  },
  {
   "cell_type": "code",
   "execution_count": 31,
   "metadata": {},
   "outputs": [
    {
     "data": {
      "text/plain": [
       "1    98977\n",
       "0    81542\n",
       "Name: late_delivery, dtype: int64"
      ]
     },
     "execution_count": 31,
     "metadata": {},
     "output_type": "execute_result"
    }
   ],
   "source": [
    "# 欺诈行为分析\n",
    "data['fraud'] = np.where(data['Order Status']=='SUSPECTED_FRAUD',1,0) \n",
    "data['late_delivery']=np.where(data['Delivery Status']=='Late delivery',1,0)\n",
    "data['late_delivery'].value_counts()\n"
   ]
  },
  {
   "cell_type": "code",
   "execution_count": 32,
   "metadata": {},
   "outputs": [],
   "source": [
    "# 删除价值不大的字段，如名称、图片等\n",
    "data.drop(['Customer Email','Customer Fname','Customer Lname','Customer Password','Product Status','Product Image',\n",
    "           'Product Name','Customer Zipcode','Customer Zipcode','Order Item Id','Order Item Cardprod Id',\n",
    "           'Order Item Profit Ratio','Product Category Id','Product Card Id','Order Status','Delivery Status','Late_delivery_risk'],axis=1, inplace=True)"
   ]
  },
  {
   "cell_type": "code",
   "execution_count": 33,
   "metadata": {},
   "outputs": [],
   "source": [
    "data.drop('Customer Name' , axis=1 , inplace=True)"
   ]
  },
  {
   "cell_type": "code",
   "execution_count": 34,
   "metadata": {},
   "outputs": [],
   "source": [
    "data.drop(['shipping date (DateOrders)','order date (DateOrders)','order_month_year'],axis=1 , inplace=True)"
   ]
  },
  {
   "cell_type": "code",
   "execution_count": 35,
   "metadata": {},
   "outputs": [],
   "source": [
    "categorical_col = data.select_dtypes(include='object').columns"
   ]
  },
  {
   "cell_type": "code",
   "execution_count": 36,
   "metadata": {},
   "outputs": [
    {
     "data": {
      "text/plain": [
       "Index(['Type', 'Days for shipping (real)', 'Days for shipment (scheduled)',\n",
       "       'Benefit per order', 'Sales per customer', 'Category Id',\n",
       "       'Category Name', 'Customer City', 'Customer Country', 'Customer Id',\n",
       "       'Customer Segment', 'Customer State', 'Customer Street',\n",
       "       'Department Id', 'Department Name', 'Latitude', 'Longitude', 'Market',\n",
       "       'Order City', 'Order Country', 'Order Customer Id', 'Order Id',\n",
       "       'Order Item Discount', 'Order Item Discount Rate',\n",
       "       'Order Item Product Price', 'Order Item Quantity', 'Sales',\n",
       "       'Order Item Total', 'Order Profit Per Order', 'Order Region',\n",
       "       'Order State', 'Product Price', 'Shipping Mode', 'order_year',\n",
       "       'order_month', 'order_week_day', 'order_day', 'order_hour', 'fraud',\n",
       "       'late_delivery'],\n",
       "      dtype='object')"
      ]
     },
     "execution_count": 36,
     "metadata": {},
     "output_type": "execute_result"
    }
   ],
   "source": [
    "data.columns"
   ]
  },
  {
   "cell_type": "code",
   "execution_count": 37,
   "metadata": {},
   "outputs": [
    {
     "data": {
      "text/html": [
       "<div>\n",
       "<style scoped>\n",
       "    .dataframe tbody tr th:only-of-type {\n",
       "        vertical-align: middle;\n",
       "    }\n",
       "\n",
       "    .dataframe tbody tr th {\n",
       "        vertical-align: top;\n",
       "    }\n",
       "\n",
       "    .dataframe thead th {\n",
       "        text-align: right;\n",
       "    }\n",
       "</style>\n",
       "<table border=\"1\" class=\"dataframe\">\n",
       "  <thead>\n",
       "    <tr style=\"text-align: right;\">\n",
       "      <th></th>\n",
       "      <th>Type</th>\n",
       "      <th>Category Name</th>\n",
       "      <th>Customer City</th>\n",
       "      <th>Customer Country</th>\n",
       "      <th>Customer Segment</th>\n",
       "      <th>Customer State</th>\n",
       "      <th>Customer Street</th>\n",
       "      <th>Department Name</th>\n",
       "      <th>Market</th>\n",
       "      <th>Order City</th>\n",
       "      <th>Order Country</th>\n",
       "      <th>Order Region</th>\n",
       "      <th>Order State</th>\n",
       "      <th>Shipping Mode</th>\n",
       "    </tr>\n",
       "  </thead>\n",
       "  <tbody>\n",
       "    <tr>\n",
       "      <th>0</th>\n",
       "      <td>1</td>\n",
       "      <td>40</td>\n",
       "      <td>66</td>\n",
       "      <td>1</td>\n",
       "      <td>0</td>\n",
       "      <td>36</td>\n",
       "      <td>3683</td>\n",
       "      <td>4</td>\n",
       "      <td>3</td>\n",
       "      <td>331</td>\n",
       "      <td>70</td>\n",
       "      <td>15</td>\n",
       "      <td>475</td>\n",
       "      <td>3</td>\n",
       "    </tr>\n",
       "    <tr>\n",
       "      <th>1</th>\n",
       "      <td>3</td>\n",
       "      <td>40</td>\n",
       "      <td>66</td>\n",
       "      <td>1</td>\n",
       "      <td>0</td>\n",
       "      <td>36</td>\n",
       "      <td>1400</td>\n",
       "      <td>4</td>\n",
       "      <td>3</td>\n",
       "      <td>391</td>\n",
       "      <td>69</td>\n",
       "      <td>13</td>\n",
       "      <td>841</td>\n",
       "      <td>3</td>\n",
       "    </tr>\n",
       "    <tr>\n",
       "      <th>2</th>\n",
       "      <td>0</td>\n",
       "      <td>40</td>\n",
       "      <td>452</td>\n",
       "      <td>0</td>\n",
       "      <td>0</td>\n",
       "      <td>5</td>\n",
       "      <td>6217</td>\n",
       "      <td>4</td>\n",
       "      <td>3</td>\n",
       "      <td>391</td>\n",
       "      <td>69</td>\n",
       "      <td>13</td>\n",
       "      <td>841</td>\n",
       "      <td>3</td>\n",
       "    </tr>\n",
       "    <tr>\n",
       "      <th>3</th>\n",
       "      <td>1</td>\n",
       "      <td>40</td>\n",
       "      <td>285</td>\n",
       "      <td>0</td>\n",
       "      <td>2</td>\n",
       "      <td>5</td>\n",
       "      <td>1803</td>\n",
       "      <td>4</td>\n",
       "      <td>3</td>\n",
       "      <td>3226</td>\n",
       "      <td>8</td>\n",
       "      <td>11</td>\n",
       "      <td>835</td>\n",
       "      <td>3</td>\n",
       "    </tr>\n",
       "    <tr>\n",
       "      <th>4</th>\n",
       "      <td>2</td>\n",
       "      <td>40</td>\n",
       "      <td>66</td>\n",
       "      <td>1</td>\n",
       "      <td>1</td>\n",
       "      <td>36</td>\n",
       "      <td>6345</td>\n",
       "      <td>4</td>\n",
       "      <td>3</td>\n",
       "      <td>3226</td>\n",
       "      <td>8</td>\n",
       "      <td>11</td>\n",
       "      <td>835</td>\n",
       "      <td>3</td>\n",
       "    </tr>\n",
       "    <tr>\n",
       "      <th>...</th>\n",
       "      <td>...</td>\n",
       "      <td>...</td>\n",
       "      <td>...</td>\n",
       "      <td>...</td>\n",
       "      <td>...</td>\n",
       "      <td>...</td>\n",
       "      <td>...</td>\n",
       "      <td>...</td>\n",
       "      <td>...</td>\n",
       "      <td>...</td>\n",
       "      <td>...</td>\n",
       "      <td>...</td>\n",
       "      <td>...</td>\n",
       "      <td>...</td>\n",
       "    </tr>\n",
       "    <tr>\n",
       "      <th>180514</th>\n",
       "      <td>0</td>\n",
       "      <td>18</td>\n",
       "      <td>59</td>\n",
       "      <td>0</td>\n",
       "      <td>2</td>\n",
       "      <td>31</td>\n",
       "      <td>285</td>\n",
       "      <td>3</td>\n",
       "      <td>3</td>\n",
       "      <td>2922</td>\n",
       "      <td>31</td>\n",
       "      <td>7</td>\n",
       "      <td>913</td>\n",
       "      <td>3</td>\n",
       "    </tr>\n",
       "    <tr>\n",
       "      <th>180515</th>\n",
       "      <td>1</td>\n",
       "      <td>18</td>\n",
       "      <td>26</td>\n",
       "      <td>0</td>\n",
       "      <td>1</td>\n",
       "      <td>5</td>\n",
       "      <td>5261</td>\n",
       "      <td>3</td>\n",
       "      <td>3</td>\n",
       "      <td>1362</td>\n",
       "      <td>77</td>\n",
       "      <td>7</td>\n",
       "      <td>770</td>\n",
       "      <td>2</td>\n",
       "    </tr>\n",
       "    <tr>\n",
       "      <th>180516</th>\n",
       "      <td>3</td>\n",
       "      <td>18</td>\n",
       "      <td>55</td>\n",
       "      <td>0</td>\n",
       "      <td>1</td>\n",
       "      <td>7</td>\n",
       "      <td>7208</td>\n",
       "      <td>3</td>\n",
       "      <td>3</td>\n",
       "      <td>25</td>\n",
       "      <td>8</td>\n",
       "      <td>11</td>\n",
       "      <td>88</td>\n",
       "      <td>3</td>\n",
       "    </tr>\n",
       "    <tr>\n",
       "      <th>180517</th>\n",
       "      <td>2</td>\n",
       "      <td>18</td>\n",
       "      <td>66</td>\n",
       "      <td>1</td>\n",
       "      <td>0</td>\n",
       "      <td>36</td>\n",
       "      <td>1335</td>\n",
       "      <td>3</td>\n",
       "      <td>3</td>\n",
       "      <td>25</td>\n",
       "      <td>8</td>\n",
       "      <td>11</td>\n",
       "      <td>88</td>\n",
       "      <td>3</td>\n",
       "    </tr>\n",
       "    <tr>\n",
       "      <th>180518</th>\n",
       "      <td>2</td>\n",
       "      <td>18</td>\n",
       "      <td>66</td>\n",
       "      <td>1</td>\n",
       "      <td>0</td>\n",
       "      <td>36</td>\n",
       "      <td>5001</td>\n",
       "      <td>3</td>\n",
       "      <td>3</td>\n",
       "      <td>2203</td>\n",
       "      <td>69</td>\n",
       "      <td>13</td>\n",
       "      <td>967</td>\n",
       "      <td>3</td>\n",
       "    </tr>\n",
       "  </tbody>\n",
       "</table>\n",
       "<p>180519 rows × 14 columns</p>\n",
       "</div>"
      ],
      "text/plain": [
       "        Type  Category Name  Customer City  Customer Country  \\\n",
       "0          1             40             66                 1   \n",
       "1          3             40             66                 1   \n",
       "2          0             40            452                 0   \n",
       "3          1             40            285                 0   \n",
       "4          2             40             66                 1   \n",
       "...      ...            ...            ...               ...   \n",
       "180514     0             18             59                 0   \n",
       "180515     1             18             26                 0   \n",
       "180516     3             18             55                 0   \n",
       "180517     2             18             66                 1   \n",
       "180518     2             18             66                 1   \n",
       "\n",
       "        Customer Segment  Customer State  Customer Street  Department Name  \\\n",
       "0                      0              36             3683                4   \n",
       "1                      0              36             1400                4   \n",
       "2                      0               5             6217                4   \n",
       "3                      2               5             1803                4   \n",
       "4                      1              36             6345                4   \n",
       "...                  ...             ...              ...              ...   \n",
       "180514                 2              31              285                3   \n",
       "180515                 1               5             5261                3   \n",
       "180516                 1               7             7208                3   \n",
       "180517                 0              36             1335                3   \n",
       "180518                 0              36             5001                3   \n",
       "\n",
       "        Market  Order City  Order Country  Order Region  Order State  \\\n",
       "0            3         331             70            15          475   \n",
       "1            3         391             69            13          841   \n",
       "2            3         391             69            13          841   \n",
       "3            3        3226              8            11          835   \n",
       "4            3        3226              8            11          835   \n",
       "...        ...         ...            ...           ...          ...   \n",
       "180514       3        2922             31             7          913   \n",
       "180515       3        1362             77             7          770   \n",
       "180516       3          25              8            11           88   \n",
       "180517       3          25              8            11           88   \n",
       "180518       3        2203             69            13          967   \n",
       "\n",
       "        Shipping Mode  \n",
       "0                   3  \n",
       "1                   3  \n",
       "2                   3  \n",
       "3                   3  \n",
       "4                   3  \n",
       "...               ...  \n",
       "180514              3  \n",
       "180515              2  \n",
       "180516              3  \n",
       "180517              3  \n",
       "180518              3  \n",
       "\n",
       "[180519 rows x 14 columns]"
      ]
     },
     "execution_count": 37,
     "metadata": {},
     "output_type": "execute_result"
    }
   ],
   "source": [
    "from sklearn.preprocessing import LabelEncoder\n",
    "\n",
    "le = LabelEncoder()\n",
    "for cat in categorical_col:\n",
    "    data[cat] = le.fit_transform(data[cat])\n",
    "data[categorical_col]"
   ]
  },
  {
   "cell_type": "code",
   "execution_count": 38,
   "metadata": {},
   "outputs": [],
   "source": [
    "# 欺诈订单\n",
    "X_fraud = data.loc[:,data.columns != 'fraud']\n",
    "Y_fraud = data['fraud']\n",
    "\n",
    "# 迟交货订单\n",
    "X_late = data.loc[:,data.columns != 'late_delivery']\n",
    "Y_late = data['late_delivery']\n",
    "\n",
    "# 销售额\n",
    "X_sales = data.loc[:,data.columns != 'Sales']\n",
    "Y_sales = data['Sales']\n",
    "\n",
    "#订货数量\n",
    "X_quantity = data.loc[:,data.columns != 'Order Item Quantity']\n",
    "Y_quantity = data['Order Item Quantity']\n"
   ]
  },
  {
   "cell_type": "code",
   "execution_count": 39,
   "metadata": {},
   "outputs": [],
   "source": [
    "# 数据集切分\n",
    "from sklearn.model_selection import train_test_split\n",
    "x_train_fraud,x_test_fraud,y_train_fraud,y_test_fraud = train_test_split(X_fraud, Y_fraud, test_size=0.3)\n",
    "\n",
    "x_train_late,x_test_late,y_train_late,y_test_late = train_test_split(X_late, Y_late, test_size=0.3)\n",
    "\n",
    "x_train_sales,x_test_sales,y_train_sales,y_test_sales = train_test_split(X_sales, Y_sales, test_size=0.3)\n",
    "\n",
    "x_train_quantity,x_test_quantity,y_train_quantity,y_test_quantity = train_test_split(X_quantity, Y_quantity, test_size=0.3)"
   ]
  },
  {
   "cell_type": "code",
   "execution_count": 40,
   "metadata": {},
   "outputs": [
    {
     "data": {
      "text/plain": [
       "Index(['Type', 'Days for shipping (real)', 'Days for shipment (scheduled)',\n",
       "       'Benefit per order', 'Sales per customer', 'Category Id',\n",
       "       'Category Name', 'Customer City', 'Customer Country', 'Customer Id',\n",
       "       'Customer Segment', 'Customer State', 'Customer Street',\n",
       "       'Department Id', 'Department Name', 'Latitude', 'Longitude', 'Market',\n",
       "       'Order City', 'Order Country', 'Order Customer Id', 'Order Id',\n",
       "       'Order Item Discount', 'Order Item Discount Rate',\n",
       "       'Order Item Product Price', 'Order Item Quantity', 'Sales',\n",
       "       'Order Item Total', 'Order Profit Per Order', 'Order Region',\n",
       "       'Order State', 'Product Price', 'Shipping Mode', 'order_year',\n",
       "       'order_month', 'order_week_day', 'order_day', 'order_hour', 'fraud',\n",
       "       'late_delivery'],\n",
       "      dtype='object')"
      ]
     },
     "execution_count": 40,
     "metadata": {},
     "output_type": "execute_result"
    }
   ],
   "source": [
    "data.columns"
   ]
  },
  {
   "cell_type": "code",
   "execution_count": 41,
   "metadata": {},
   "outputs": [],
   "source": [
    "# 数据规范化\n",
    "from sklearn.preprocessing import StandardScaler\n",
    "\n",
    "sc1 = StandardScaler()\n",
    "x_train_fraud =sc1.fit_transform(x_train_fraud) \n",
    "x_test_fraud =sc1.transform(x_test_fraud) \n",
    "\n",
    "sc2 = StandardScaler()\n",
    "x_train_late =sc2.fit_transform(x_train_late) \n",
    "x_test_late =sc2.transform(x_test_late) \n",
    "\n",
    "sc3 = StandardScaler()\n",
    "x_train_sales =sc3.fit_transform(x_train_sales) \n",
    "x_test_sales =sc3.transform(x_test_sales) \n",
    "\n",
    "sc4 = StandardScaler()\n",
    "x_train_quantity =sc4.fit_transform(x_train_quantity) \n",
    "x_test_quantity =sc4.transform(x_test_quantity) "
   ]
  },
  {
   "cell_type": "markdown",
   "metadata": {},
   "source": [
    "# 1-2.对欺诈订单(Order Status)、迟交货订单(Late delivery)进行预测 "
   ]
  },
  {
   "cell_type": "code",
   "execution_count": 42,
   "metadata": {},
   "outputs": [],
   "source": [
    "from sklearn.metrics import accuracy_score , f1_score , roc_auc_score ,recall_score , confusion_matrix \n",
    "\n",
    "# 定义模型函数\n",
    "def model_stats(model, x_train, y_train, x_test, y_test, name):\n",
    "    model = model.fit(x_train,y_train)\n",
    "    y_pred = model.predict(x_test)\n",
    "    accuracy = accuracy_score(y_pred,y_test)\n",
    "    auc = roc_auc_score(y_pred , y_test)\n",
    "    recall = recall_score(y_pred , y_test)\n",
    "    confusion = confusion_matrix(y_pred , y_test)\n",
    "    f1 = f1_score(y_pred , y_test)\n",
    "    print(\"Model:{}\".format(model))\n",
    "    print(\"{} Accuracy :{}\".format(name,accuracy))\n",
    "    print(\"{} AUC :{}\".format(name,auc))\n",
    "    print(\"{} F1_Score: {}\".format(name,f1))\n",
    "    print(\"{} Recall: {}\".format(name,recall))\n",
    "    print(\"{} Confusion Metrix: {}\\n\\n\".format(name,confusion))\n",
    "#     return accuracy,recall,auc,f1"
   ]
  },
  {
   "cell_type": "code",
   "execution_count": 51,
   "metadata": {},
   "outputs": [],
   "source": [
    "import warnings\n",
    "warnings.filterwarnings(\"ignore\")"
   ]
  },
  {
   "cell_type": "code",
   "execution_count": 52,
   "metadata": {},
   "outputs": [
    {
     "name": "stdout",
     "output_type": "stream",
     "text": [
      "LogisticRegression\n",
      "\n",
      "Model:LogisticRegression(C=1.0, class_weight=None, dual=False, fit_intercept=True,\n",
      "                   intercept_scaling=1, l1_ratio=None, max_iter=5000,\n",
      "                   multi_class='auto', n_jobs=None, penalty='l2',\n",
      "                   random_state=None, solver='lbfgs', tol=0.0001, verbose=0,\n",
      "                   warm_start=False)\n",
      "fraud Accuracy :0.9789681660388507\n",
      "fraud AUC :0.7626757546228395\n",
      "fraud F1_Score: 0.3264340626848019\n",
      "fraud Recall: 0.5422396856581533\n",
      "fraud Confusion Metrix: [[52741   906]\n",
      " [  233   276]]\n",
      "\n",
      "\n",
      "Model:LogisticRegression(C=1.0, class_weight=None, dual=False, fit_intercept=True,\n",
      "                   intercept_scaling=1, l1_ratio=None, max_iter=5000,\n",
      "                   multi_class='auto', n_jobs=None, penalty='l2',\n",
      "                   random_state=None, solver='lbfgs', tol=0.0001, verbose=0,\n",
      "                   warm_start=False)\n",
      "late Accuracy :0.9886623827461408\n",
      "late AUC :0.9898933368448775\n",
      "late F1_Score: 0.9897901493232233\n",
      "late Recall: 0.979786673689755\n",
      "late Confusion Metrix: [[23780     0]\n",
      " [  614 29762]]\n",
      "\n",
      "\n"
     ]
    }
   ],
   "source": [
    "from sklearn.linear_model import LogisticRegression\n",
    "print(\"LogisticRegression\\n\")\n",
    "model_LR_fraud = LogisticRegression(max_iter=5000)\n",
    "model_LR_late = LogisticRegression(max_iter=5000)\n",
    "model_stats(model_LR_fraud,x_train_fraud ,y_train_fraud,  x_test_fraud , y_test_fraud , 'fraud')\n",
    "model_stats(model_LR_late,x_train_late ,y_train_late,  x_test_late , y_test_late ,'late')\n"
   ]
  },
  {
   "cell_type": "code",
   "execution_count": 44,
   "metadata": {},
   "outputs": [
    {
     "name": "stdout",
     "output_type": "stream",
     "text": [
      "Model:GaussianNB(priors=None, var_smoothing=1e-09)\n",
      "fraud Accuracy :0.8801979466725756\n",
      "fraud AUC :0.5770534550195567\n",
      "fraud F1_Score: 0.26705829191143243\n",
      "fraud Recall: 0.15410691003911342\n",
      "fraud Confusion Metrix: [[46486     0]\n",
      " [ 6488  1182]]\n",
      "\n",
      "\n",
      "Model:GaussianNB(priors=None, var_smoothing=1e-09)\n",
      "late Accuracy :0.5713494349656548\n",
      "late AUC :0.7809007852612504\n",
      "late F1_Score: 0.7194275907080181\n",
      "late Recall: 0.5618015705225008\n",
      "late Confusion Metrix: [[ 1180     0]\n",
      " [23214 29762]]\n",
      "\n",
      "\n"
     ]
    }
   ],
   "source": [
    "from sklearn.naive_bayes import GaussianNB\n",
    "model_gnb_fraud = GaussianNB()\n",
    "model_gnb_late = GaussianNB()\n",
    "model_stats(model_gnb_fraud,x_train_fraud ,y_train_fraud,  x_test_fraud , y_test_fraud , 'fraud')\n",
    "model_stats(model_gnb_late,x_train_late ,y_train_late,  x_test_late , y_test_late ,'late')\n"
   ]
  },
  {
   "cell_type": "code",
   "execution_count": 53,
   "metadata": {},
   "outputs": [
    {
     "name": "stdout",
     "output_type": "stream",
     "text": [
      "Model:LinearSVC(C=1.0, class_weight=None, dual=True, fit_intercept=True,\n",
      "          intercept_scaling=1, loss='squared_hinge', max_iter=1000,\n",
      "          multi_class='ovr', penalty='l2', random_state=None, tol=0.0001,\n",
      "          verbose=0)\n",
      "fraud Accuracy :0.978377280449073\n",
      "fraud AUC :0.7471905254522097\n",
      "fraud F1_Score: 0.2855399633923124\n",
      "fraud Recall: 0.5120350109409191\n",
      "fraud Confusion Metrix: [[52751   948]\n",
      " [  223   234]]\n",
      "\n",
      "\n",
      "Model:LinearSVC(C=1.0, class_weight=None, dual=True, fit_intercept=True,\n",
      "          intercept_scaling=1, loss='squared_hinge', max_iter=1000,\n",
      "          multi_class='ovr', penalty='l2', random_state=None, tol=0.0001,\n",
      "          verbose=0)\n",
      "late Accuracy :0.9886623827461408\n",
      "late AUC :0.9898933368448775\n",
      "late F1_Score: 0.9897901493232233\n",
      "late Recall: 0.979786673689755\n",
      "late Confusion Metrix: [[23780     0]\n",
      " [  614 29762]]\n",
      "\n",
      "\n"
     ]
    }
   ],
   "source": [
    "from sklearn.svm import LinearSVC\n",
    "model_svc_fraud = LinearSVC()\n",
    "model_svc_late = LinearSVC()\n",
    "model_stats(model_svc_fraud,x_train_fraud ,y_train_fraud,  x_test_fraud , y_test_fraud , 'fraud')\n",
    "model_stats(model_svc_late,x_train_late ,y_train_late,  x_test_late , y_test_late ,'late')"
   ]
  },
  {
   "cell_type": "code",
   "execution_count": 46,
   "metadata": {},
   "outputs": [
    {
     "name": "stdout",
     "output_type": "stream",
     "text": [
      "Model:LinearDiscriminantAnalysis(n_components=None, priors=None, shrinkage=None,\n",
      "                           solver='svd', store_covariance=False, tol=0.0001)\n",
      "fraud Accuracy :0.9789866312135312\n",
      "fraud AUC :0.7553155358989176\n",
      "fraud F1_Score: 0.4606635071090048\n",
      "fraud Recall: 0.5237068965517241\n",
      "fraud Confusion Metrix: [[52532   696]\n",
      " [  442   486]]\n",
      "\n",
      "\n",
      "Model:LinearDiscriminantAnalysis(n_components=None, priors=None, shrinkage=None,\n",
      "                           solver='svd', store_covariance=False, tol=0.0001)\n",
      "late Accuracy :0.9833444124381416\n",
      "late AUC :0.9841973154050568\n",
      "late F1_Score: 0.9849711753140724\n",
      "late Recall: 0.97693019566367\n",
      "late Confusion Metrix: [[23696   204]\n",
      " [  698 29558]]\n",
      "\n",
      "\n"
     ]
    }
   ],
   "source": [
    "from sklearn.discriminant_analysis import LinearDiscriminantAnalysis\n",
    "model_lda_fraud = LinearDiscriminantAnalysis()\n",
    "model_lda_late = LinearDiscriminantAnalysis()\n",
    "model_stats(model_lda_fraud,x_train_fraud ,y_train_fraud,  x_test_fraud , y_test_fraud , 'fraud')\n",
    "model_stats(model_lda_late,x_train_late ,y_train_late,  x_test_late , y_test_late ,'late')"
   ]
  },
  {
   "cell_type": "code",
   "execution_count": 47,
   "metadata": {},
   "outputs": [
    {
     "name": "stdout",
     "output_type": "stream",
     "text": [
      "Model:DecisionTreeClassifier(ccp_alpha=0.0, class_weight=None, criterion='gini',\n",
      "                       max_depth=None, max_features=None, max_leaf_nodes=None,\n",
      "                       min_impurity_decrease=0.0, min_impurity_split=None,\n",
      "                       min_samples_leaf=1, min_samples_split=2,\n",
      "                       min_weight_fraction_leaf=0.0, presort='deprecated',\n",
      "                       random_state=None, splitter='best')\n",
      "fraud Accuracy :0.9902873181180294\n",
      "fraud AUC :0.8823329345026165\n",
      "fraud F1_Score: 0.7808333333333334\n",
      "fraud Recall: 0.7692939244663383\n",
      "fraud Confusion Metrix: [[52693   245]\n",
      " [  281   937]]\n",
      "\n",
      "\n",
      "Model:DecisionTreeClassifier(ccp_alpha=0.0, class_weight=None, criterion='gini',\n",
      "                       max_depth=None, max_features=None, max_leaf_nodes=None,\n",
      "                       min_impurity_decrease=0.0, min_impurity_split=None,\n",
      "                       min_samples_leaf=1, min_samples_split=2,\n",
      "                       min_weight_fraction_leaf=0.0, presort='deprecated',\n",
      "                       random_state=None, splitter='best')\n",
      "late Accuracy :0.9933525371150012\n",
      "late AUC :0.9932087706774476\n",
      "late F1_Score: 0.9939475453934096\n",
      "late Recall: 0.9946833568880813\n",
      "late Confusion Metrix: [[24236   202]\n",
      " [  158 29560]]\n",
      "\n",
      "\n"
     ]
    }
   ],
   "source": [
    "from sklearn.tree import DecisionTreeClassifier\n",
    "model_dtc_fraud = DecisionTreeClassifier()\n",
    "model_dtc_late = DecisionTreeClassifier()\n",
    "model_stats(model_dtc_fraud,x_train_fraud ,y_train_fraud,  x_test_fraud , y_test_fraud , 'fraud')\n",
    "model_stats(model_dtc_late,x_train_late ,y_train_late,  x_test_late , y_test_late ,'late')"
   ]
  },
  {
   "cell_type": "code",
   "execution_count": 48,
   "metadata": {},
   "outputs": [
    {
     "name": "stdout",
     "output_type": "stream",
     "text": [
      "Model:RandomForestClassifier(bootstrap=True, ccp_alpha=0.0, class_weight=None,\n",
      "                       criterion='gini', max_depth=None, max_features='auto',\n",
      "                       max_leaf_nodes=None, max_samples=None,\n",
      "                       min_impurity_decrease=0.0, min_impurity_split=None,\n",
      "                       min_samples_leaf=1, min_samples_split=2,\n",
      "                       min_weight_fraction_leaf=0.0, n_estimators=100,\n",
      "                       n_jobs=None, oob_score=False, random_state=None,\n",
      "                       verbose=0, warm_start=False)\n",
      "fraud Accuracy :0.989474850432085\n",
      "fraud AUC :0.9868573094856773\n",
      "fraud F1_Score: 0.6857772877618522\n",
      "fraud Recall: 0.9841772151898734\n",
      "fraud Confusion Metrix: [[52964   560]\n",
      " [   10   622]]\n",
      "\n",
      "\n",
      "Model:RandomForestClassifier(bootstrap=True, ccp_alpha=0.0, class_weight=None,\n",
      "                       criterion='gini', max_depth=None, max_features='auto',\n",
      "                       max_leaf_nodes=None, max_samples=None,\n",
      "                       min_impurity_decrease=0.0, min_impurity_split=None,\n",
      "                       min_samples_leaf=1, min_samples_split=2,\n",
      "                       min_weight_fraction_leaf=0.0, n_estimators=100,\n",
      "                       n_jobs=None, oob_score=False, random_state=None,\n",
      "                       verbose=0, warm_start=False)\n",
      "late Accuracy :0.9918753231405569\n",
      "late AUC :0.9927157141911132\n",
      "late F1_Score: 0.9926622640250817\n",
      "late Recall: 0.9854314283822263\n",
      "late Confusion Metrix: [[23954     0]\n",
      " [  440 29762]]\n",
      "\n",
      "\n"
     ]
    }
   ],
   "source": [
    "from sklearn.ensemble import RandomForestClassifier\n",
    "model_rfc_fraud = RandomForestClassifier()\n",
    "model_rfc_late = RandomForestClassifier()\n",
    "model_stats(model_rfc_fraud,x_train_fraud ,y_train_fraud,  x_test_fraud , y_test_fraud , 'fraud')\n",
    "model_stats(model_rfc_late,x_train_late ,y_train_late,  x_test_late , y_test_late ,'late')"
   ]
  },
  {
   "cell_type": "code",
   "execution_count": 49,
   "metadata": {},
   "outputs": [
    {
     "name": "stdout",
     "output_type": "stream",
     "text": [
      "Model:XGBClassifier(base_score=0.5, booster='gbtree', colsample_bylevel=1,\n",
      "              colsample_bynode=1, colsample_bytree=1, gamma=0, gpu_id=-1,\n",
      "              importance_type='gain', interaction_constraints='',\n",
      "              learning_rate=0.300000012, max_delta_step=0, max_depth=6,\n",
      "              min_child_weight=1, missing=nan, monotone_constraints='()',\n",
      "              n_estimators=100, n_jobs=0, num_parallel_tree=1,\n",
      "              objective='binary:logistic', random_state=0, reg_alpha=0,\n",
      "              reg_lambda=1, scale_pos_weight=1, subsample=1,\n",
      "              tree_method='exact', validate_parameters=1, verbosity=None)\n",
      "fraud Accuracy :0.9901765270699461\n",
      "fraud AUC :0.9478502953070903\n",
      "fraud F1_Score: 0.7321248741188318\n",
      "fraud Recall: 0.904228855721393\n",
      "fraud Confusion Metrix: [[52897   455]\n",
      " [   77   727]]\n",
      "\n",
      "\n",
      "Model:XGBClassifier(base_score=0.5, booster='gbtree', colsample_bylevel=1,\n",
      "              colsample_bynode=1, colsample_bytree=1, gamma=0, gpu_id=-1,\n",
      "              importance_type='gain', interaction_constraints='',\n",
      "              learning_rate=0.300000012, max_delta_step=0, max_depth=6,\n",
      "              min_child_weight=1, missing=nan, monotone_constraints='()',\n",
      "              n_estimators=100, n_jobs=0, num_parallel_tree=1,\n",
      "              objective='binary:logistic', random_state=0, reg_alpha=0,\n",
      "              reg_lambda=1, scale_pos_weight=1, subsample=1,\n",
      "              tree_method='exact', validate_parameters=1, verbosity=None)\n",
      "late Accuracy :0.9927062560011818\n",
      "late AUC :0.99342756707718\n",
      "late F1_Score: 0.9934066667779465\n",
      "late Recall: 0.9870633893919794\n",
      "late Confusion Metrix: [[24004     5]\n",
      " [  390 29757]]\n",
      "\n",
      "\n"
     ]
    }
   ],
   "source": [
    "from xgboost import XGBClassifier\n",
    "model_xgbc_fraud = XGBClassifier()\n",
    "model_xgbc_late = XGBClassifier()\n",
    "model_stats(model_xgbc_fraud,x_train_fraud ,y_train_fraud,  x_test_fraud , y_test_fraud , 'fraud')\n",
    "model_stats(model_xgbc_late,x_train_late ,y_train_late,  x_test_late , y_test_late ,'late')"
   ]
  },
  {
   "cell_type": "code",
   "execution_count": 50,
   "metadata": {},
   "outputs": [
    {
     "name": "stdout",
     "output_type": "stream",
     "text": [
      "Model:KNeighborsClassifier(algorithm='auto', leaf_size=30, metric='minkowski',\n",
      "                     metric_params=None, n_jobs=None, n_neighbors=5, p=2,\n",
      "                     weights='uniform')\n",
      "fraud Accuracy :0.979245143659059\n",
      "fraud AUC :0.8435466211069736\n",
      "fraud F1_Score: 0.1497730711043873\n",
      "fraud Recall: 0.7071428571428572\n",
      "fraud Confusion Metrix: [[52933  1083]\n",
      " [   41    99]]\n",
      "\n",
      "\n",
      "Model:KNeighborsClassifier(algorithm='auto', leaf_size=30, metric='minkowski',\n",
      "                     metric_params=None, n_jobs=None, n_neighbors=5, p=2,\n",
      "                     weights='uniform')\n",
      "late Accuracy :0.8538666075781077\n",
      "late AUC :0.8523056006435417\n",
      "late F1_Score: 0.866677897574124\n",
      "late Recall: 0.8690789918237719\n",
      "late Confusion Metrix: [[20519  4039]\n",
      " [ 3875 25723]]\n",
      "\n",
      "\n"
     ]
    }
   ],
   "source": [
    "from sklearn.neighbors import KNeighborsClassifier\n",
    "model_knn_fraud = KNeighborsClassifier()\n",
    "model_knn_late = KNeighborsClassifier()\n",
    "model_stats(model_knn_fraud,x_train_fraud ,y_train_fraud,  x_test_fraud , y_test_fraud , 'fraud')\n",
    "model_stats(model_knn_late,x_train_late ,y_train_late,  x_test_late , y_test_late ,'late')"
   ]
  },
  {
   "cell_type": "markdown",
   "metadata": {},
   "source": [
    "# 3-4.对销售额(Sales)、订货数量(Order Item Quantity)进行预测"
   ]
  },
  {
   "cell_type": "code",
   "execution_count": 59,
   "metadata": {},
   "outputs": [],
   "source": [
    "from sklearn.metrics import mean_absolute_error,mean_squared_error,r2_score\n",
    "def model_regr_status(model,x_train,y_train,x_test,y_test,name):\n",
    "    model=model.fit(x_train,y_train)\n",
    "    y_pred=model.predict(x_test)\n",
    "    \n",
    "    mae = mean_absolute_error(y_test,y_pred)\n",
    "    mse = mean_squared_error(y_test,y_pred)\n",
    "    r2 = r2_score(y_test,y_pred)\n",
    "    print(\"Model:{}\".format(model))\n",
    "    print(\"{} MAE :{}\".format(name,mae))\n",
    "    print(\"{} MSE :{}\".format(name,mse))\n",
    "    print(\"{} R2: {}\\n\".format(name,r2))"
   ]
  },
  {
   "cell_type": "code",
   "execution_count": 55,
   "metadata": {},
   "outputs": [],
   "source": [
    "from sklearn.linear_model import LinearRegression , Lasso , Ridge\n",
    "from sklearn.tree import DecisionTreeRegressor\n",
    "from sklearn.ensemble import RandomForestRegressor\n",
    "from xgboost import XGBRegressor\n",
    "from lightgbm import  LGBMRegressor\n"
   ]
  },
  {
   "cell_type": "code",
   "execution_count": 67,
   "metadata": {},
   "outputs": [
    {
     "name": "stdout",
     "output_type": "stream",
     "text": [
      "Model:LinearRegression(copy_X=True, fit_intercept=True, n_jobs=None, normalize=False)\n",
      "sales MAE :0.0005912392802887692\n",
      "sales MSE :2.3070848746658914e-06\n",
      "sales R2: 0.9999999998693722\n",
      "\n",
      "Model:LinearRegression(copy_X=True, fit_intercept=True, n_jobs=None, normalize=False)\n",
      "quantity MAE :0.0005912392802887692\n",
      "quantity MSE :2.3070848746658914e-06\n",
      "quantity R2: 0.9999999998693722\n",
      "\n"
     ]
    }
   ],
   "source": [
    "model_linear_sales = LinearRegression()\n",
    "model_linear_quantity = LinearRegression()\n",
    "model_regr_status(model_linear_sales,x_train_sales ,y_train_sales,  x_test_sales , y_test_sales , 'sales')\n",
    "model_regr_status(model_linear_quantity,x_train_sales ,y_train_sales,  x_test_sales , y_test_sales ,'quantity')"
   ]
  },
  {
   "cell_type": "code",
   "execution_count": 68,
   "metadata": {},
   "outputs": [
    {
     "name": "stdout",
     "output_type": "stream",
     "text": [
      "Model:Lasso(alpha=1.0, copy_X=True, fit_intercept=True, max_iter=1000,\n",
      "      normalize=False, positive=False, precompute=False, random_state=None,\n",
      "      selection='cyclic', tol=0.0001, warm_start=False)\n",
      "sales MAE :0.8374540155971205\n",
      "sales MSE :1.3553838667752933\n",
      "sales R2: 0.9999232577550784\n",
      "\n",
      "Model:Lasso(alpha=1.0, copy_X=True, fit_intercept=True, max_iter=1000,\n",
      "      normalize=False, positive=False, precompute=False, random_state=None,\n",
      "      selection='cyclic', tol=0.0001, warm_start=False)\n",
      "quantity MAE :0.8374540155971205\n",
      "quantity MSE :1.3553838667752933\n",
      "quantity R2: 0.9999232577550784\n",
      "\n"
     ]
    }
   ],
   "source": [
    "model_lasso_sales = Lasso()\n",
    "model_Lasso_quantity = Lasso()\n",
    "model_regr_status(model_lasso_sales,x_train_sales ,y_train_sales,  x_test_sales , y_test_sales , 'sales')\n",
    "model_regr_status(model_Lasso_quantity,x_train_sales ,y_train_sales,  x_test_sales , y_test_sales ,'quantity')\n"
   ]
  },
  {
   "cell_type": "code",
   "execution_count": 69,
   "metadata": {},
   "outputs": [
    {
     "name": "stdout",
     "output_type": "stream",
     "text": [
      "Model:Ridge(alpha=1.0, copy_X=True, fit_intercept=True, max_iter=None,\n",
      "      normalize=False, random_state=None, solver='auto', tol=0.001)\n",
      "sales MAE :0.0013269880876284272\n",
      "sales MSE :5.839517436953551e-06\n",
      "sales R2: 0.9999999996693647\n",
      "\n",
      "Model:Ridge(alpha=1.0, copy_X=True, fit_intercept=True, max_iter=None,\n",
      "      normalize=False, random_state=None, solver='auto', tol=0.001)\n",
      "quantity MAE :0.0013269880876284272\n",
      "quantity MSE :5.839517436953551e-06\n",
      "quantity R2: 0.9999999996693647\n",
      "\n"
     ]
    }
   ],
   "source": [
    "model_ridge_sales = Ridge()\n",
    "model_ridge_quantity = Ridge()\n",
    "model_regr_status(model_ridge_sales,x_train_sales ,y_train_sales,  x_test_sales , y_test_sales , 'sales')\n",
    "model_regr_status(model_ridge_quantity,x_train_sales ,y_train_sales,  x_test_sales , y_test_sales ,'quantity')"
   ]
  },
  {
   "cell_type": "code",
   "execution_count": 70,
   "metadata": {},
   "outputs": [
    {
     "name": "stdout",
     "output_type": "stream",
     "text": [
      "Model:DecisionTreeRegressor(ccp_alpha=0.0, criterion='mse', max_depth=None,\n",
      "                      max_features=None, max_leaf_nodes=None,\n",
      "                      min_impurity_decrease=0.0, min_impurity_split=None,\n",
      "                      min_samples_leaf=1, min_samples_split=2,\n",
      "                      min_weight_fraction_leaf=0.0, presort='deprecated',\n",
      "                      random_state=None, splitter='best')\n",
      "sales MAE :0.013453911091647314\n",
      "sales MSE :0.5131461136393914\n",
      "sales R2: 0.9999709455116748\n",
      "\n",
      "Model:DecisionTreeRegressor(ccp_alpha=0.0, criterion='mse', max_depth=None,\n",
      "                      max_features=None, max_leaf_nodes=None,\n",
      "                      min_impurity_decrease=0.0, min_impurity_split=None,\n",
      "                      min_samples_leaf=1, min_samples_split=2,\n",
      "                      min_weight_fraction_leaf=0.0, presort='deprecated',\n",
      "                      random_state=None, splitter='best')\n",
      "quantity MAE :0.012414138281801632\n",
      "quantity MSE :0.4973839096632664\n",
      "quantity R2: 0.9999718379724364\n",
      "\n"
     ]
    }
   ],
   "source": [
    "model_dtr_sales = DecisionTreeRegressor()\n",
    "model_dtr_quantity = DecisionTreeRegressor()\n",
    "model_regr_status(model_dtr_sales,x_train_sales ,y_train_sales,  x_test_sales , y_test_sales , 'sales')\n",
    "model_regr_status(model_dtr_quantity,x_train_sales ,y_train_sales,  x_test_sales , y_test_sales ,'quantity')"
   ]
  },
  {
   "cell_type": "code",
   "execution_count": 71,
   "metadata": {},
   "outputs": [
    {
     "name": "stdout",
     "output_type": "stream",
     "text": [
      "Model:RandomForestRegressor(bootstrap=True, ccp_alpha=0.0, criterion='mse',\n",
      "                      max_depth=None, max_features='auto', max_leaf_nodes=None,\n",
      "                      max_samples=None, min_impurity_decrease=0.0,\n",
      "                      min_impurity_split=None, min_samples_leaf=1,\n",
      "                      min_samples_split=2, min_weight_fraction_leaf=0.0,\n",
      "                      n_estimators=100, n_jobs=None, oob_score=False,\n",
      "                      random_state=None, verbose=0, warm_start=False)\n",
      "sales MAE :0.021506974213627565\n",
      "sales MSE :0.3017041049272924\n",
      "sales R2: 0.9999829174222287\n",
      "\n",
      "Model:RandomForestRegressor(bootstrap=True, ccp_alpha=0.0, criterion='mse',\n",
      "                      max_depth=None, max_features='auto', max_leaf_nodes=None,\n",
      "                      max_samples=None, min_impurity_decrease=0.0,\n",
      "                      min_impurity_split=None, min_samples_leaf=1,\n",
      "                      min_samples_split=2, min_weight_fraction_leaf=0.0,\n",
      "                      n_estimators=100, n_jobs=None, oob_score=False,\n",
      "                      random_state=None, verbose=0, warm_start=False)\n",
      "quantity MAE :0.021626392634068545\n",
      "quantity MSE :0.29058463192246425\n",
      "quantity R2: 0.999983547010157\n",
      "\n"
     ]
    }
   ],
   "source": [
    "model_rfr_sales = RandomForestRegressor()\n",
    "model_rfr_quantity = RandomForestRegressor()\n",
    "model_regr_status(model_rfr_sales,x_train_sales ,y_train_sales,  x_test_sales , y_test_sales , 'sales')\n",
    "model_regr_status(model_rfr_quantity,x_train_sales ,y_train_sales,  x_test_sales , y_test_sales ,'quantity')"
   ]
  },
  {
   "cell_type": "code",
   "execution_count": 72,
   "metadata": {},
   "outputs": [
    {
     "name": "stdout",
     "output_type": "stream",
     "text": [
      "Model:LinearRegression(copy_X=True, fit_intercept=True, n_jobs=None, normalize=False)\n",
      "sales MAE :0.0005912392802887692\n",
      "sales MSE :2.3070848746658914e-06\n",
      "sales R2: 0.9999999998693722\n",
      "\n",
      "Model:LinearRegression(copy_X=True, fit_intercept=True, n_jobs=None, normalize=False)\n",
      "quantity MAE :0.0005912392802887692\n",
      "quantity MSE :2.3070848746658914e-06\n",
      "quantity R2: 0.9999999998693722\n",
      "\n"
     ]
    }
   ],
   "source": [
    "model_lgbmr_sales = LGBMRegressor()\n",
    "model_lgbmr_quantity = LGBMRegressor()\n",
    "model_regr_status(model_linear_fraud,x_train_sales ,y_train_sales,  x_test_sales , y_test_sales , 'sales')\n",
    "model_regr_status(model_linear_late,x_train_sales ,y_train_sales,  x_test_sales , y_test_sales ,'quantity')"
   ]
  },
  {
   "cell_type": "code",
   "execution_count": 73,
   "metadata": {},
   "outputs": [
    {
     "name": "stdout",
     "output_type": "stream",
     "text": [
      "Model:XGBRegressor(base_score=0.5, booster='gbtree', colsample_bylevel=1,\n",
      "             colsample_bynode=1, colsample_bytree=1, gamma=0, gpu_id=-1,\n",
      "             importance_type='gain', interaction_constraints='',\n",
      "             learning_rate=0.300000012, max_delta_step=0, max_depth=6,\n",
      "             min_child_weight=1, missing=nan, monotone_constraints='()',\n",
      "             n_estimators=100, n_jobs=0, num_parallel_tree=1,\n",
      "             objective='reg:squarederror', random_state=0, reg_alpha=0,\n",
      "             reg_lambda=1, scale_pos_weight=1, subsample=1, tree_method='exact',\n",
      "             validate_parameters=1, verbosity=None)\n",
      "sales MAE :0.13060712999325466\n",
      "sales MSE :0.30560507719378704\n",
      "sales R2: 0.9999826965479978\n",
      "\n",
      "Model:XGBRegressor(base_score=0.5, booster='gbtree', colsample_bylevel=1,\n",
      "             colsample_bynode=1, colsample_bytree=1, gamma=0, gpu_id=-1,\n",
      "             importance_type='gain', interaction_constraints='',\n",
      "             learning_rate=0.300000012, max_delta_step=0, max_depth=6,\n",
      "             min_child_weight=1, missing=nan, monotone_constraints='()',\n",
      "             n_estimators=100, n_jobs=0, num_parallel_tree=1,\n",
      "             objective='reg:squarederror', random_state=0, reg_alpha=0,\n",
      "             reg_lambda=1, scale_pos_weight=1, subsample=1, tree_method='exact',\n",
      "             validate_parameters=1, verbosity=None)\n",
      "quantity MAE :0.13060712999325466\n",
      "quantity MSE :0.30560507719378704\n",
      "quantity R2: 0.9999826965479978\n",
      "\n"
     ]
    }
   ],
   "source": [
    "model_xgbr_sales = XGBRegressor()\n",
    "model_xgbr_quantity = XGBRegressor()\n",
    "model_regr_status(model_xgbr_sales,x_train_sales ,y_train_sales,  x_test_sales , y_test_sales , 'sales')\n",
    "model_regr_status(model_xgbr_quantity,x_train_sales ,y_train_sales,  x_test_sales , y_test_sales ,'quantity')"
   ]
  }
 ],
 "metadata": {
  "kernelspec": {
   "display_name": "Python 3",
   "language": "python",
   "name": "python3"
  },
  "language_info": {
   "codemirror_mode": {
    "name": "ipython",
    "version": 3
   },
   "file_extension": ".py",
   "mimetype": "text/x-python",
   "name": "python",
   "nbconvert_exporter": "python",
   "pygments_lexer": "ipython3",
   "version": "3.7.6"
  }
 },
 "nbformat": 4,
 "nbformat_minor": 4
}
