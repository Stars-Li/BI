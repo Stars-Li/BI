{
 "cells": [
  {
   "cell_type": "markdown",
   "metadata": {},
   "source": [
    "# Thinking\n",
    "### Thinking1：常见的规划问题都包括哪些？\n",
    "    线性规划（LP）、整数线性规划（ILP）、混合整数规划（MIP）、路径问题规划（VRP）\n",
    "### Thinking2：常用的规划工具包都有哪些？\n",
    "    现使用scripy、pulp、ortools\n",
    "### Thinking3：RFM模型的原理是怎样的\n",
    "    RFM为Recency(距离最近的一次交易)、Frequency(交易频率)、Monetary(交易金额)的缩写，再既定规则下计算R、F、M综合分值越高，客户价值越高。\n",
    "    通常分为八类：重要价值客户(R:高，F:高，M:高)、重要发展用户(R:高，F:低，M:高)、重要保持用户(R:低，F:高，M:高)、重要挽留用户(R:低，F:低，M:高)、一般价值用户(R:高，F:高，M:低)、一般发展用户(R:高，F:低，M:低)、一般保持用户(R:低，F:高，M:低)、一般挽留用户(R:低，F:低，M:低)"
   ]
  },
  {
   "cell_type": "markdown",
   "metadata": {},
   "source": [
    "# Action2"
   ]
  },
  {
   "cell_type": "code",
   "execution_count": 1,
   "metadata": {},
   "outputs": [],
   "source": [
    "import pulp\n",
    "import numpy as np"
   ]
  },
  {
   "cell_type": "code",
   "execution_count": 2,
   "metadata": {},
   "outputs": [
    {
     "name": "stdout",
     "output_type": "stream",
     "text": [
      "row:4 col:6\n"
     ]
    }
   ],
   "source": [
    "# 定义数据，共6个亩地、4个品种农作物，怎么种使得总收益最大。\n",
    "costs = np.array([[500, 550, 630, 1000, 800, 700],\n",
    "                      [800, 700, 600, 950, 900, 930],\n",
    "                      [1000, 960, 840, 650, 600, 700],\n",
    "                      [1200, 1040, 980, 860, 880, 780]])\n",
    "# 计划播种面积\n",
    "max_plant = [76, 88, 96, 40]\n",
    "# 拥有地块面积\n",
    "max_cultivation = [42, 56, 44, 39, 60, 59]\n",
    "\n",
    "row = len(costs)\n",
    "col = len(costs[0])\n",
    "print(f'row:{row} col:{col}')"
   ]
  },
  {
   "cell_type": "code",
   "execution_count": 3,
   "metadata": {},
   "outputs": [
    {
     "data": {
      "text/plain": [
       "[[x00, x01, x02, x03, x04, x05],\n",
       " [x10, x11, x12, x13, x14, x15],\n",
       " [x20, x21, x22, x23, x24, x25],\n",
       " [x30, x31, x32, x33, x34, x35]]"
      ]
     },
     "execution_count": 3,
     "metadata": {},
     "output_type": "execute_result"
    }
   ],
   "source": [
    "# 定义初始问题\n",
    "prob = pulp.LpProblem('Transportation', sense=pulp.LpMaximize)\n",
    "# 定义相关变量\n",
    "var = [[pulp.LpVariable(f'x{i}{j}', lowBound=0, cat=pulp.LpInteger) for j in range(col)] for i in range(row)]\n",
    "var"
   ]
  },
  {
   "cell_type": "code",
   "execution_count": 4,
   "metadata": {},
   "outputs": [
    {
     "name": "stdout",
     "output_type": "stream",
     "text": [
      "var= [[x00, x01, x02, x03, x04, x05], [x10, x11, x12, x13, x14, x15], [x20, x21, x22, x23, x24, x25], [x30, x31, x32, x33, x34, x35]]\n",
      "flatten= <function <lambda> at 0x7f23b85d8320>\n",
      "var[1] [x10, x11, x12, x13, x14, x15]\n"
     ]
    }
   ],
   "source": [
    "# 递归展开列表\n",
    "flatten = lambda x: [y for l in x for y in flatten(l)] if type(x) is list else [x]\n",
    "print('var=', var)\n",
    "print('flatten=', flatten)\n",
    "print('var[1]', var[1])"
   ]
  },
  {
   "cell_type": "code",
   "execution_count": 5,
   "metadata": {},
   "outputs": [],
   "source": [
    "# 定义目标函数 （单价* {ij}运量）\n",
    "prob += pulp.lpDot(flatten(var), costs.flatten())\n",
    "\n",
    "# 定义约束条件\n",
    "for i in range(row):\n",
    "    prob += pulp.lpSum(var[i]) <= max_plant[i]\n",
    "for j in range(col):\n",
    "    prob += pulp.lpSum([var[i][j] for i in range(row)]) <= max_cultivation[j]"
   ]
  },
  {
   "cell_type": "code",
   "execution_count": 6,
   "metadata": {},
   "outputs": [],
   "source": [
    "# 使用线性规划计算结果\n",
    "prob.solve()\n",
    "result = {'objective':pulp.value(prob.objective), \\\n",
    "          'var': [[pulp.value(var[i][j]) for j in range(col)] for i in range(row)]}"
   ]
  },
  {
   "cell_type": "code",
   "execution_count": 8,
   "metadata": {},
   "outputs": [
    {
     "name": "stdout",
     "output_type": "stream",
     "text": [
      "最大值为284230.0\n",
      "各变量的取值为：\n",
      "[[0.0, 0.0, 6.0, 39.0, 31.0, 0.0], [0.0, 0.0, 0.0, 0.0, 29.0, 59.0], [2.0, 56.0, 38.0, 0.0, 0.0, 0.0], [40.0, 0.0, 0.0, 0.0, 0.0, 0.0]]\n"
     ]
    }
   ],
   "source": [
    "# 输出结果\n",
    "print(f'最大值为{result[\"objective\"]}')\n",
    "print('各变量的取值为：')\n",
    "print(result['var'])"
   ]
  },
  {
   "cell_type": "code",
   "execution_count": null,
   "metadata": {},
   "outputs": [],
   "source": []
  }
 ],
 "metadata": {
  "kernelspec": {
   "display_name": "Python 3",
   "language": "python",
   "name": "python3"
  },
  "language_info": {
   "codemirror_mode": {
    "name": "ipython",
    "version": 3
   },
   "file_extension": ".py",
   "mimetype": "text/x-python",
   "name": "python",
   "nbconvert_exporter": "python",
   "pygments_lexer": "ipython3",
   "version": "3.7.6"
  }
 },
 "nbformat": 4,
 "nbformat_minor": 4
}
