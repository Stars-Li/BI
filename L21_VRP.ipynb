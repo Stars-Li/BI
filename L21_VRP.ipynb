{
 "cells": [
  {
   "cell_type": "markdown",
   "metadata": {},
   "source": [
    "\n",
    "# Thinking:线性规划与混合整数规划的区别是什么？\n",
    "    线性规划里添加了数学公式优化，不需要满足全是整数的约束；混合整数规划无法使用数学公式对其进行优化，相当于是暴力穷举，必须满足给定的条件才可以成立。\n",
    "\n",
    "# Thinking:针对VRP问题，常见的约束条件都有哪些？\n",
    "    距离约束（如各车辆最大行驶距离，各车辆行驶距离差距最小化），路径约束（如路径先后顺序），时间窗口约束（如行驶时间最短）等"
   ]
  },
  {
   "cell_type": "markdown",
   "metadata": {},
   "source": [
    "# Action2:\n",
    "多辆车的路径规划 VRP：\n",
    "条件：经过中国33个城市，一共4辆车，每辆车最大行驶10000公里\n",
    "目标：使得每辆车的行驶里程数更接近\n",
    "需要注意：\n",
    "1）在VRP问题中，路径上给点赋的index和点实际的index不一样，需要使用IndexToNode方法进行转换才能得到实际的index"
   ]
  },
  {
   "cell_type": "code",
   "execution_count": 1,
   "metadata": {},
   "outputs": [],
   "source": [
    "from ortools.constraint_solver import routing_enums_pb2\n",
    "from ortools.constraint_solver import pywrapcp\n",
    "import pandas as pd"
   ]
  },
  {
   "cell_type": "code",
   "execution_count": 46,
   "metadata": {},
   "outputs": [
    {
     "data": {
      "text/plain": [
       "array(['北京', '天津', '哈尔滨', '长春', '沈阳', '石家庄', '呼和浩特', '太原', '上海', '杭州',\n",
       "       '福州', '广州', '海口', '合肥', '郑州', '南京', '济南', '兰州', '银川', '西宁', '西安',\n",
       "       '拉萨', '乌鲁木齐', '成都', '重庆', '南宁', '贵阳', '昆明', '武汉', '长沙', '南昌', '香港',\n",
       "       '澳门'], dtype=object)"
      ]
     },
     "execution_count": 46,
     "metadata": {},
     "output_type": "execute_result"
    }
   ],
   "source": [
    "# 加载数据\n",
    "# 设置城市名\n",
    "cities = pd.read_excel('./cities.xlsx')\n",
    "city_names = cities['name'].values\n",
    "city_names"
   ]
  },
  {
   "cell_type": "code",
   "execution_count": 123,
   "metadata": {},
   "outputs": [],
   "source": [
    "# 设置数据\n",
    "def create_data_model(num_vehicles,depot):\n",
    "    data = {}\n",
    "    data['distance_matrix'] =  pd.read_excel('./distance.xlsx',index_col=0).values\n",
    "    data['num_vehicles'] = num_vehicles\n",
    "    data['depot'] = depot\n",
    "    return data"
   ]
  },
  {
   "cell_type": "code",
   "execution_count": 128,
   "metadata": {},
   "outputs": [],
   "source": [
    "# 输出结果\n",
    "def print_solution(manager, routing, solution, num_vehicles):\n",
    "#     print('总行驶里程: {} 公里'.format(solution.ObjectiveValue()))\n",
    "    distinct_list = [] # 记录每辆车的里程\n",
    "    route_list = [] # 记录每辆车的路径规划\n",
    "\n",
    "    for vehicle_id in range(num_vehicles):\n",
    "        # 初始化距离\n",
    "        route_distance = 0 \n",
    "        # 针对 vehicle_id 进行规划\n",
    "        route = [] \n",
    "        # 车辆起始点为每辆车\n",
    "        index = routing.Start(vehicle_id)\n",
    "\n",
    "        plan_output = '车辆的路径:\\n'\n",
    "        # 判断这辆车路径是否结束\n",
    "        while not routing.IsEnd(index):\n",
    "            # 将 manager中的index转换为distance_matrix中的index \n",
    "            index_show = manager.IndexToNode(index)\n",
    "            route.append(index_show)\n",
    "            previous_index = index\n",
    "            # 走到下一个节点\n",
    "            index = solution.Value(routing.NextVar(index))\n",
    "\n",
    "            # 针对vehicle=0，统计previous_index到index的距离\n",
    "            route_distance += routing.GetArcCostForVehicle(previous_index, index, 0)\n",
    "        route_list.append(route)\n",
    "        distinct_list.append(route_distance)\n",
    "\n",
    "    print(route_list)\n",
    "    print('{}公里'.format(distinct_list))\n",
    "    return route_list,distinct_list"
   ]
  },
  {
   "cell_type": "code",
   "execution_count": 125,
   "metadata": {},
   "outputs": [],
   "source": [
    "def add_distance_dimension(routing, transit_callback_index):\n",
    "    # 添加距离约束\n",
    "    dimension_name = 'Distance'\n",
    "    routing.AddDimension(\n",
    "        transit_callback_index,\n",
    "        0,  # no slack\n",
    "        10000,  # 车辆最大行驶距离\n",
    "        True,  # start cumul to zero\n",
    "        dimension_name)\n",
    "    distance_dimension = routing.GetDimensionOrDie(dimension_name)\n",
    "    # 尽量减少车辆之间的最大距离\n",
    "    distance_dimension.SetGlobalSpanCostCoefficient(100)"
   ]
  },
  {
   "cell_type": "code",
   "execution_count": 126,
   "metadata": {},
   "outputs": [],
   "source": [
    "def main(num_vehicles,depot):\n",
    "    # 1.初始化数据，得到3个参数字典\n",
    "    data = create_data_model(num_vehicles,depot)\n",
    "    # 2.创建路线索引管理器，tsp_size（城市数量）, num_vehicles（车的数量）, depot（出发点：原点）\n",
    "    manager = pywrapcp.RoutingIndexManager(len(data['distance_matrix']),\n",
    "                                           data['num_vehicles'], data['depot'])\n",
    "    \n",
    "    # 3.创建路线模型 Routing Model. \n",
    "    routing = pywrapcp.RoutingModel(manager)\n",
    "    \n",
    "    # 4.注册距离：计算两点之间的距离，输人的是manager中两个节点index，输出distance节点之间的距离 \n",
    "    def distance_callback(from_index, to_index):\n",
    "        # Convert from routing variable Index to distance matrix NodeIndex.\n",
    "        # 将index转换为distance_index矩阵中的节点index\n",
    "        from_node = manager.IndexToNode(from_index)\n",
    "        to_node = manager.IndexToNode(to_index)\n",
    "        return data['distance_matrix'][from_node][to_node]\n",
    "    # 注册距离函数\n",
    "    transit_callback_index = routing.RegisterTransitCallback(distance_callback)\n",
    " \n",
    "    # Define cost of each arc. \n",
    "    routing.SetArcCostEvaluatorOfAllVehicles(transit_callback_index)\n",
    "    \n",
    "    # 添加距离约束\n",
    "    add_distance_dimension(routing, transit_callback_index)\n",
    "    \n",
    "    # 5.设置参数策略，Setting first solution heuristic. \n",
    "    search_parameters = pywrapcp.DefaultRoutingSearchParameters()\n",
    "    search_parameters.first_solution_strategy = (\n",
    "        routing_enums_pb2.FirstSolutionStrategy.PATH_CHEAPEST_ARC)\n",
    " \n",
    "    # 6.求解路径规划\n",
    "    solution = routing.SolveWithParameters(search_parameters)\n",
    "    # 输出结果\n",
    "    route_list,distinct_list = print_solution(manager, routing, solution,num_vehicles)\n",
    "    return route_list,distinct_list"
   ]
  },
  {
   "cell_type": "code",
   "execution_count": 129,
   "metadata": {},
   "outputs": [
    {
     "ename": "AttributeError",
     "evalue": "'NoneType' object has no attribute 'Value'",
     "output_type": "error",
     "traceback": [
      "\u001b[0;31m---------------------------------------------------------------------------\u001b[0m",
      "\u001b[0;31mAttributeError\u001b[0m                            Traceback (most recent call last)",
      "\u001b[0;32m<ipython-input-129-8650d3955a23>\u001b[0m in \u001b[0;36m<module>\u001b[0;34m\u001b[0m\n\u001b[1;32m      1\u001b[0m \u001b[0mnum_vehicles\u001b[0m \u001b[0;34m=\u001b[0m \u001b[0;36m5\u001b[0m\u001b[0;34m\u001b[0m\u001b[0;34m\u001b[0m\u001b[0m\n\u001b[1;32m      2\u001b[0m \u001b[0mdepot\u001b[0m \u001b[0;34m=\u001b[0m \u001b[0;36m0\u001b[0m\u001b[0;34m\u001b[0m\u001b[0;34m\u001b[0m\u001b[0m\n\u001b[0;32m----> 3\u001b[0;31m \u001b[0mroute_list\u001b[0m\u001b[0;34m,\u001b[0m\u001b[0mdistinct_list\u001b[0m \u001b[0;34m=\u001b[0m \u001b[0mmain\u001b[0m\u001b[0;34m(\u001b[0m\u001b[0mnum_vehicles\u001b[0m\u001b[0;34m,\u001b[0m \u001b[0mdepot\u001b[0m\u001b[0;34m)\u001b[0m\u001b[0;34m\u001b[0m\u001b[0;34m\u001b[0m\u001b[0m\n\u001b[0m\u001b[1;32m      4\u001b[0m \u001b[0mroute_list\u001b[0m\u001b[0;34m\u001b[0m\u001b[0;34m\u001b[0m\u001b[0m\n",
      "\u001b[0;32m<ipython-input-126-cdcaa8ee9aaf>\u001b[0m in \u001b[0;36mmain\u001b[0;34m(num_vehicles, depot)\u001b[0m\n\u001b[1;32m     33\u001b[0m     \u001b[0msolution\u001b[0m \u001b[0;34m=\u001b[0m \u001b[0mrouting\u001b[0m\u001b[0;34m.\u001b[0m\u001b[0mSolveWithParameters\u001b[0m\u001b[0;34m(\u001b[0m\u001b[0msearch_parameters\u001b[0m\u001b[0;34m)\u001b[0m\u001b[0;34m\u001b[0m\u001b[0;34m\u001b[0m\u001b[0m\n\u001b[1;32m     34\u001b[0m     \u001b[0;31m# 输出结果\u001b[0m\u001b[0;34m\u001b[0m\u001b[0;34m\u001b[0m\u001b[0;34m\u001b[0m\u001b[0m\n\u001b[0;32m---> 35\u001b[0;31m     \u001b[0mroute_list\u001b[0m\u001b[0;34m,\u001b[0m\u001b[0mdistinct_list\u001b[0m \u001b[0;34m=\u001b[0m \u001b[0mprint_solution\u001b[0m\u001b[0;34m(\u001b[0m\u001b[0mmanager\u001b[0m\u001b[0;34m,\u001b[0m \u001b[0mrouting\u001b[0m\u001b[0;34m,\u001b[0m \u001b[0msolution\u001b[0m\u001b[0;34m,\u001b[0m\u001b[0mnum_vehicles\u001b[0m\u001b[0;34m)\u001b[0m\u001b[0;34m\u001b[0m\u001b[0;34m\u001b[0m\u001b[0m\n\u001b[0m\u001b[1;32m     36\u001b[0m     \u001b[0;32mreturn\u001b[0m \u001b[0mroute_list\u001b[0m\u001b[0;34m,\u001b[0m\u001b[0mdistinct_list\u001b[0m\u001b[0;34m\u001b[0m\u001b[0;34m\u001b[0m\u001b[0m\n",
      "\u001b[0;32m<ipython-input-128-69d7c55010a4>\u001b[0m in \u001b[0;36mprint_solution\u001b[0;34m(manager, routing, solution, num_vehicles)\u001b[0m\n\u001b[1;32m     21\u001b[0m             \u001b[0mprevious_index\u001b[0m \u001b[0;34m=\u001b[0m \u001b[0mindex\u001b[0m\u001b[0;34m\u001b[0m\u001b[0;34m\u001b[0m\u001b[0m\n\u001b[1;32m     22\u001b[0m             \u001b[0;31m# 走到下一个节点\u001b[0m\u001b[0;34m\u001b[0m\u001b[0;34m\u001b[0m\u001b[0;34m\u001b[0m\u001b[0m\n\u001b[0;32m---> 23\u001b[0;31m             \u001b[0mindex\u001b[0m \u001b[0;34m=\u001b[0m \u001b[0msolution\u001b[0m\u001b[0;34m.\u001b[0m\u001b[0mValue\u001b[0m\u001b[0;34m(\u001b[0m\u001b[0mrouting\u001b[0m\u001b[0;34m.\u001b[0m\u001b[0mNextVar\u001b[0m\u001b[0;34m(\u001b[0m\u001b[0mindex\u001b[0m\u001b[0;34m)\u001b[0m\u001b[0;34m)\u001b[0m\u001b[0;34m\u001b[0m\u001b[0;34m\u001b[0m\u001b[0m\n\u001b[0m\u001b[1;32m     24\u001b[0m \u001b[0;34m\u001b[0m\u001b[0m\n\u001b[1;32m     25\u001b[0m             \u001b[0;31m# 针对vehicle=0，统计previous_index到index的距离\u001b[0m\u001b[0;34m\u001b[0m\u001b[0;34m\u001b[0m\u001b[0;34m\u001b[0m\u001b[0m\n",
      "\u001b[0;31mAttributeError\u001b[0m: 'NoneType' object has no attribute 'Value'"
     ]
    }
   ],
   "source": [
    "num_vehicles = 5\n",
    "depot = 0\n",
    "route_list,distinct_list = main(num_vehicles, depot)\n",
    "route_list"
   ]
  },
  {
   "cell_type": "code",
   "execution_count": 120,
   "metadata": {},
   "outputs": [],
   "source": [
    "class vrp(object):\n",
    "    def __init__(self, city_names=None , num_vehicles=1 ,depot=0):\n",
    "        # 城市名\n",
    "        self.cities = pd.read_excel('./cities.xlsx')\n",
    "        self.all_city = self.cities['name'].values\n",
    "        self.num_vehicles = num_vehicles\n",
    "        self.depot = depot\n",
    "        if city_names is None:\n",
    "            self.city_names = self.all_city\n",
    "        else:\n",
    "            self.city_names = city_names\n",
    "            self.cities = self.cities[self.cities['name'].isin(city_names)]\n",
    "            \n",
    "    # 设置数据\n",
    "    def create_data_model(self):\n",
    "        data = {}\n",
    "        temp =  pd.read_excel('./distance.xlsx',index_col=0)\n",
    "        temp = temp[(temp.index.isin(self.city_names))][self.city_names]\n",
    "        data['distance_matrix'] = temp.values\n",
    "        data['num_vehicles'] = self.num_vehicles\n",
    "        data['depot'] = self.depot = depot\n",
    "        return data\n",
    "    \n",
    "    # 获取结果\n",
    "    def get_solution(self, manager, routing, solution):\n",
    "        # print('总行驶里程: {} 公里'.format(solution.ObjectiveValue()))\n",
    "        distinct_list = [] # 记录每辆车的里程\n",
    "        route_list = [] # 记录每辆车的路径规划\n",
    "\n",
    "        for vehicle_id in range(self.num_vehicles):\n",
    "            # 初始化距离\n",
    "            route_distance = 0 \n",
    "            # 针对 vehicle_id 进行规划\n",
    "            route = [] \n",
    "            # 车辆起始点为每辆车\n",
    "            index = routing.Start(vehicle_id) \n",
    "            plan_output = '车辆的路径:\\n'\n",
    "            # 判断这辆车路径是否结束\n",
    "            while not routing.IsEnd(index):\n",
    "                # 将 manager中的index转换为distance_matrix中的index \n",
    "                index_show = manager.IndexToNode(index)\n",
    "                route.append(index_show)\n",
    "                previous_index = index\n",
    "                # 走到下一个节点\n",
    "                index = solution.Value(routing.NextVar(index))\n",
    "                # 针对vehicle=0，统计previous_index到index的距离\n",
    "                route_distance += routing.GetArcCostForVehicle(previous_index, index, 0)\n",
    "            route_list.append(route)\n",
    "            distinct_list.append(route_distance)\n",
    "             \n",
    "        print(route_list)\n",
    "        print('{}公里'.format(distinct_list))\n",
    "        return route_list,distinct_list\n",
    "\n",
    "     # 添加距离约束\n",
    "    def add_distance_dimension(self, routing, transit_callback_index):\n",
    "        # 添加距离约束\n",
    "        dimension_name = 'Distance'\n",
    "        routing.AddDimension(\n",
    "            transit_callback_index,\n",
    "            0,  # no slack\n",
    "            10000,  # 车辆最大行驶距离\n",
    "            True,  # start cumul to zero\n",
    "            dimension_name)\n",
    "        distance_dimension = routing.GetDimensionOrDie(dimension_name)\n",
    "        # 尽量减少车辆之间的最大距离\n",
    "        distance_dimension.SetGlobalSpanCostCoefficient(100)\n",
    "\n",
    "    def work(self):\n",
    "        # 1.初始化数据，得到3个参数字典\n",
    "        data = self.create_data_model()\n",
    "\n",
    "        # 2.创建路线索引管理器，tsp_size（城市数量）, num_vehicles（车的数量）, depot（出发点：原点）\n",
    "        manager = pywrapcp.RoutingIndexManager(len(data['distance_matrix']),\n",
    "                                               data['num_vehicles'], data['depot'])\n",
    "\n",
    "        # 3.创建路线模型 Routing Model. \n",
    "        routing = pywrapcp.RoutingModel(manager)\n",
    "\n",
    "        # 4.注册距离：计算两点之间的距离，输人的是manager中两个节点index，输出distance节点之间的距离 \n",
    "        def distance_callback(from_index,to_index):\n",
    "            # Convert from routing variable Index to distance matrix NodeIndex.\n",
    "            # 将index转换为distance_index矩阵中的节点index\n",
    "            from_node = manager.IndexToNode(from_index)\n",
    "            to_node = manager.IndexToNode(to_index)\n",
    "            return data['distance_matrix'][from_node][to_node]\n",
    "        # 注册距离函数\n",
    "        transit_callback_index = routing.RegisterTransitCallback(distance_callback)\n",
    "\n",
    "        # Define cost of each arc. \n",
    "        routing.SetArcCostEvaluatorOfAllVehicles(transit_callback_index)\n",
    "\n",
    "        # 添加距离约束\n",
    "        self.add_distance_dimension(routing, transit_callback_index)\n",
    "    \n",
    "\n",
    "        # 5.设置参数策略，Setting first solution heuristic. \n",
    "        search_parameters = pywrapcp.DefaultRoutingSearchParameters()\n",
    "        search_parameters.first_solution_strategy = (\n",
    "            routing_enums_pb2.FirstSolutionStrategy.PATH_CHEAPEST_ARC)\n",
    "\n",
    "        # 6.求解路径规划\n",
    "        solution = routing.SolveWithParameters(search_parameters)\n",
    "        # 输出结果\n",
    "        route_list,distinct_list = self.get_solution(manager, routing, solution)\n",
    "        return route_list,distinct_list"
   ]
  },
  {
   "cell_type": "code",
   "execution_count": 121,
   "metadata": {},
   "outputs": [
    {
     "ename": "AttributeError",
     "evalue": "'NoneType' object has no attribute 'Value'",
     "output_type": "error",
     "traceback": [
      "\u001b[0;31m---------------------------------------------------------------------------\u001b[0m",
      "\u001b[0;31mAttributeError\u001b[0m                            Traceback (most recent call last)",
      "\u001b[0;32m<ipython-input-121-2c90a20e9e78>\u001b[0m in \u001b[0;36m<module>\u001b[0;34m\u001b[0m\n\u001b[1;32m      1\u001b[0m \u001b[0;32mif\u001b[0m \u001b[0m__name__\u001b[0m \u001b[0;34m==\u001b[0m \u001b[0;34m'__main__'\u001b[0m\u001b[0;34m:\u001b[0m\u001b[0;34m\u001b[0m\u001b[0;34m\u001b[0m\u001b[0m\n\u001b[1;32m      2\u001b[0m     \u001b[0mmodel\u001b[0m \u001b[0;34m=\u001b[0m \u001b[0mvrp\u001b[0m\u001b[0;34m(\u001b[0m\u001b[0mnum_vehicles\u001b[0m\u001b[0;34m=\u001b[0m\u001b[0;36m5\u001b[0m\u001b[0;34m)\u001b[0m\u001b[0;34m\u001b[0m\u001b[0;34m\u001b[0m\u001b[0m\n\u001b[0;32m----> 3\u001b[0;31m     \u001b[0mroute_list\u001b[0m\u001b[0;34m,\u001b[0m\u001b[0mdistinct_list\u001b[0m \u001b[0;34m=\u001b[0m \u001b[0mmodel\u001b[0m\u001b[0;34m.\u001b[0m\u001b[0mwork\u001b[0m\u001b[0;34m(\u001b[0m\u001b[0;34m)\u001b[0m\u001b[0;34m\u001b[0m\u001b[0;34m\u001b[0m\u001b[0m\n\u001b[0m",
      "\u001b[0;32m<ipython-input-120-2c6bf17f00a9>\u001b[0m in \u001b[0;36mwork\u001b[0;34m(self)\u001b[0m\n\u001b[1;32m    103\u001b[0m         \u001b[0msolution\u001b[0m \u001b[0;34m=\u001b[0m \u001b[0mrouting\u001b[0m\u001b[0;34m.\u001b[0m\u001b[0mSolveWithParameters\u001b[0m\u001b[0;34m(\u001b[0m\u001b[0msearch_parameters\u001b[0m\u001b[0;34m)\u001b[0m\u001b[0;34m\u001b[0m\u001b[0;34m\u001b[0m\u001b[0m\n\u001b[1;32m    104\u001b[0m         \u001b[0;31m# 输出结果\u001b[0m\u001b[0;34m\u001b[0m\u001b[0;34m\u001b[0m\u001b[0;34m\u001b[0m\u001b[0m\n\u001b[0;32m--> 105\u001b[0;31m         \u001b[0mroute_list\u001b[0m\u001b[0;34m,\u001b[0m\u001b[0mdistinct_list\u001b[0m \u001b[0;34m=\u001b[0m \u001b[0mself\u001b[0m\u001b[0;34m.\u001b[0m\u001b[0mget_solution\u001b[0m\u001b[0;34m(\u001b[0m\u001b[0mmanager\u001b[0m\u001b[0;34m,\u001b[0m \u001b[0mrouting\u001b[0m\u001b[0;34m,\u001b[0m \u001b[0msolution\u001b[0m\u001b[0;34m)\u001b[0m\u001b[0;34m\u001b[0m\u001b[0;34m\u001b[0m\u001b[0m\n\u001b[0m\u001b[1;32m    106\u001b[0m         \u001b[0;32mreturn\u001b[0m \u001b[0mroute_list\u001b[0m\u001b[0;34m,\u001b[0m\u001b[0mdistinct_list\u001b[0m\u001b[0;34m\u001b[0m\u001b[0;34m\u001b[0m\u001b[0m\n",
      "\u001b[0;32m<ipython-input-120-2c6bf17f00a9>\u001b[0m in \u001b[0;36mget_solution\u001b[0;34m(self, manager, routing, solution)\u001b[0m\n\u001b[1;32m     43\u001b[0m                 \u001b[0mprevious_index\u001b[0m \u001b[0;34m=\u001b[0m \u001b[0mindex\u001b[0m\u001b[0;34m\u001b[0m\u001b[0;34m\u001b[0m\u001b[0m\n\u001b[1;32m     44\u001b[0m                 \u001b[0;31m# 走到下一个节点\u001b[0m\u001b[0;34m\u001b[0m\u001b[0;34m\u001b[0m\u001b[0;34m\u001b[0m\u001b[0m\n\u001b[0;32m---> 45\u001b[0;31m                 \u001b[0mindex\u001b[0m \u001b[0;34m=\u001b[0m \u001b[0msolution\u001b[0m\u001b[0;34m.\u001b[0m\u001b[0mValue\u001b[0m\u001b[0;34m(\u001b[0m\u001b[0mrouting\u001b[0m\u001b[0;34m.\u001b[0m\u001b[0mNextVar\u001b[0m\u001b[0;34m(\u001b[0m\u001b[0mindex\u001b[0m\u001b[0;34m)\u001b[0m\u001b[0;34m)\u001b[0m\u001b[0;34m\u001b[0m\u001b[0;34m\u001b[0m\u001b[0m\n\u001b[0m\u001b[1;32m     46\u001b[0m                 \u001b[0;31m# 针对vehicle=0，统计previous_index到index的距离\u001b[0m\u001b[0;34m\u001b[0m\u001b[0;34m\u001b[0m\u001b[0;34m\u001b[0m\u001b[0m\n\u001b[1;32m     47\u001b[0m                 \u001b[0mroute_distance\u001b[0m \u001b[0;34m+=\u001b[0m \u001b[0mrouting\u001b[0m\u001b[0;34m.\u001b[0m\u001b[0mGetArcCostForVehicle\u001b[0m\u001b[0;34m(\u001b[0m\u001b[0mprevious_index\u001b[0m\u001b[0;34m,\u001b[0m \u001b[0mindex\u001b[0m\u001b[0;34m,\u001b[0m \u001b[0;36m0\u001b[0m\u001b[0;34m)\u001b[0m\u001b[0;34m\u001b[0m\u001b[0;34m\u001b[0m\u001b[0m\n",
      "\u001b[0;31mAttributeError\u001b[0m: 'NoneType' object has no attribute 'Value'"
     ]
    }
   ],
   "source": [
    "if __name__ == '__main__':\n",
    "    model = vrp(num_vehicles=5)\n",
    "    route_list,distinct_list = model.work()\n"
   ]
  }
 ],
 "metadata": {
  "kernelspec": {
   "display_name": "Python 3",
   "language": "python",
   "name": "python3"
  },
  "language_info": {
   "codemirror_mode": {
    "name": "ipython",
    "version": 3
   },
   "file_extension": ".py",
   "mimetype": "text/x-python",
   "name": "python",
   "nbconvert_exporter": "python",
   "pygments_lexer": "ipython3",
   "version": "3.7.6"
  }
 },
 "nbformat": 4,
 "nbformat_minor": 4
}
