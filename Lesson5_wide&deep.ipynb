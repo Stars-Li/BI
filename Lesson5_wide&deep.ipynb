{
 "cells": [
  {
   "cell_type": "markdown",
   "metadata": {},
   "source": [
    "# Thinking"
   ]
  },
  {
   "cell_type": "code",
   "execution_count": null,
   "metadata": {},
   "outputs": [],
   "source": [
    "Thinking1：在CTR点击率预估中，使用GBDT+LR的原理是什么？\n",
    "\n",
    "    当样本量大时，LR学习能力有限，模型拟合效果不好。采用GBDT可以用来发掘有区分度的特征，增加模型效果。GBDT主要进行特征构造，LR用来分类。\n",
    "    \n",
    "    \n",
    "Thinking2：Wide & Deep的模型结构是怎样的，为什么能通过具备记忆和泛化能力（memorization and generalization）\n",
    "\n",
    "    Wide：memorization记忆能力，学习items或者features之间的相关频率，在历史数据中探索相关性的可行性；\n",
    "    Deep：generalization泛化（推理）能力，基于相关性的传递，去探索一些在过去没有出现过的特征组合。\n",
    "    Wide模型是LR模型，可以进行有效记忆；Deep模型是深度模型，可以将特征映射到高纬空间，增加模型特征和稠密度，\n",
    "同时对Wide模型和Deep模型进行训练，从而使模型具有记忆力和泛化能力。\n",
    "\n",
    "\n",
    "Thinking3：在CTR预估中，使用FM与DNN结合的方式，有哪些结合的方式，代表模型有哪些？\n",
    "\n",
    "    1.结合方式有并行(Bagging)和串行（Bossting）；\n",
    "    2.代表模型:\n",
    "        DeepFM（并行），通过FM与DNN结合，获得高阶特征；\n",
    "        NFM（串行）。\n",
    "\n",
    "Thinking4：GBDT和随机森林都是基于树的算法，它们有什么区别？\n",
    "\n",
    "    1.GBDT属于Boosting模型(串行)，RF属于Bagging模型（并行）；\n",
    "    2.随机森林的树可以是分类树，也可以是回归树；而GBDT只能由回归树组成；\n",
    "    3.随机森林是通过减少模型方差提高性能，GBDT是通过减少模型偏差提高性能；\n",
    "\n",
    "    \n",
    "Thinking5：item流行度在推荐系统中有怎样的应用？\n",
    "\n",
    "    1.解决冷启动问题:将流行度较高的商品推荐给用户，如对于新用户，采用非个性化推荐（基于流行度的推荐）；\n",
    "    2.个性化推荐：给用户推荐流行度较低的item，如对于老用户，可以考虑高流行度对商品推荐的降权影响，挖掘长尾。"
   ]
  },
  {
   "cell_type": "markdown",
   "metadata": {},
   "source": [
    "# Action 使用Wide&Deep模型对movielens进行评分预测"
   ]
  },
  {
   "cell_type": "code",
   "execution_count": 2,
   "metadata": {},
   "outputs": [],
   "source": [
    "import pandas as pd\n",
    "from sklearn.metrics import mean_squared_error\n",
    "from sklearn.model_selection import train_test_split\n",
    "from sklearn.preprocessing import LabelEncoder\n",
    "\n",
    "from deepctr.models import WDL\n",
    "from deepctr.feature_column import SparseFeat,get_feature_names"
   ]
  },
  {
   "cell_type": "code",
   "execution_count": 6,
   "metadata": {},
   "outputs": [
    {
     "data": {
      "text/html": [
       "<div>\n",
       "<style scoped>\n",
       "    .dataframe tbody tr th:only-of-type {\n",
       "        vertical-align: middle;\n",
       "    }\n",
       "\n",
       "    .dataframe tbody tr th {\n",
       "        vertical-align: top;\n",
       "    }\n",
       "\n",
       "    .dataframe thead th {\n",
       "        text-align: right;\n",
       "    }\n",
       "</style>\n",
       "<table border=\"1\" class=\"dataframe\">\n",
       "  <thead>\n",
       "    <tr style=\"text-align: right;\">\n",
       "      <th></th>\n",
       "      <th>user_id</th>\n",
       "      <th>movie_id</th>\n",
       "      <th>rating</th>\n",
       "      <th>timestamp</th>\n",
       "      <th>title</th>\n",
       "      <th>genres</th>\n",
       "      <th>gender</th>\n",
       "      <th>age</th>\n",
       "      <th>occupation</th>\n",
       "      <th>zip</th>\n",
       "    </tr>\n",
       "  </thead>\n",
       "  <tbody>\n",
       "    <tr>\n",
       "      <th>0</th>\n",
       "      <td>3299</td>\n",
       "      <td>235</td>\n",
       "      <td>4</td>\n",
       "      <td>968035345</td>\n",
       "      <td>Ed Wood (1994)</td>\n",
       "      <td>Comedy|Drama</td>\n",
       "      <td>F</td>\n",
       "      <td>25</td>\n",
       "      <td>4</td>\n",
       "      <td>19119</td>\n",
       "    </tr>\n",
       "    <tr>\n",
       "      <th>1</th>\n",
       "      <td>3630</td>\n",
       "      <td>3256</td>\n",
       "      <td>3</td>\n",
       "      <td>966536874</td>\n",
       "      <td>Patriot Games (1992)</td>\n",
       "      <td>Action|Thriller</td>\n",
       "      <td>M</td>\n",
       "      <td>18</td>\n",
       "      <td>4</td>\n",
       "      <td>77005</td>\n",
       "    </tr>\n",
       "    <tr>\n",
       "      <th>2</th>\n",
       "      <td>517</td>\n",
       "      <td>105</td>\n",
       "      <td>4</td>\n",
       "      <td>976203603</td>\n",
       "      <td>Bridges of Madison County, The (1995)</td>\n",
       "      <td>Drama|Romance</td>\n",
       "      <td>F</td>\n",
       "      <td>25</td>\n",
       "      <td>14</td>\n",
       "      <td>55408</td>\n",
       "    </tr>\n",
       "    <tr>\n",
       "      <th>3</th>\n",
       "      <td>785</td>\n",
       "      <td>2115</td>\n",
       "      <td>3</td>\n",
       "      <td>975430389</td>\n",
       "      <td>Indiana Jones and the Temple of Doom (1984)</td>\n",
       "      <td>Action|Adventure</td>\n",
       "      <td>M</td>\n",
       "      <td>18</td>\n",
       "      <td>19</td>\n",
       "      <td>29307</td>\n",
       "    </tr>\n",
       "    <tr>\n",
       "      <th>4</th>\n",
       "      <td>5848</td>\n",
       "      <td>909</td>\n",
       "      <td>5</td>\n",
       "      <td>957782527</td>\n",
       "      <td>Apartment, The (1960)</td>\n",
       "      <td>Comedy|Drama</td>\n",
       "      <td>M</td>\n",
       "      <td>50</td>\n",
       "      <td>20</td>\n",
       "      <td>20009</td>\n",
       "    </tr>\n",
       "  </tbody>\n",
       "</table>\n",
       "</div>"
      ],
      "text/plain": [
       "   user_id  movie_id  rating  timestamp  \\\n",
       "0     3299       235       4  968035345   \n",
       "1     3630      3256       3  966536874   \n",
       "2      517       105       4  976203603   \n",
       "3      785      2115       3  975430389   \n",
       "4     5848       909       5  957782527   \n",
       "\n",
       "                                         title            genres gender  age  \\\n",
       "0                               Ed Wood (1994)      Comedy|Drama      F   25   \n",
       "1                         Patriot Games (1992)   Action|Thriller      M   18   \n",
       "2        Bridges of Madison County, The (1995)     Drama|Romance      F   25   \n",
       "3  Indiana Jones and the Temple of Doom (1984)  Action|Adventure      M   18   \n",
       "4                        Apartment, The (1960)      Comedy|Drama      M   50   \n",
       "\n",
       "   occupation    zip  \n",
       "0           4  19119  \n",
       "1           4  77005  \n",
       "2          14  55408  \n",
       "3          19  29307  \n",
       "4          20  20009  "
      ]
     },
     "execution_count": 6,
     "metadata": {},
     "output_type": "execute_result"
    }
   ],
   "source": [
    "# 数据加载\n",
    "data = pd.read_csv(r\"L5/wide_deep/movielens_sample.txt\")\n",
    "sparse_features = [\"movie_id\", \"user_id\", \"gender\", \"age\", \"occupation\", \"zip\"]\n",
    "target = ['rating']\n",
    "data.head()"
   ]
  },
  {
   "cell_type": "code",
   "execution_count": 12,
   "metadata": {},
   "outputs": [
    {
     "data": {
      "text/html": [
       "<div>\n",
       "<style scoped>\n",
       "    .dataframe tbody tr th:only-of-type {\n",
       "        vertical-align: middle;\n",
       "    }\n",
       "\n",
       "    .dataframe tbody tr th {\n",
       "        vertical-align: top;\n",
       "    }\n",
       "\n",
       "    .dataframe thead th {\n",
       "        text-align: right;\n",
       "    }\n",
       "</style>\n",
       "<table border=\"1\" class=\"dataframe\">\n",
       "  <thead>\n",
       "    <tr style=\"text-align: right;\">\n",
       "      <th></th>\n",
       "      <th>user_id</th>\n",
       "      <th>movie_id</th>\n",
       "      <th>rating</th>\n",
       "      <th>timestamp</th>\n",
       "      <th>title</th>\n",
       "      <th>genres</th>\n",
       "      <th>gender</th>\n",
       "      <th>age</th>\n",
       "      <th>occupation</th>\n",
       "      <th>zip</th>\n",
       "    </tr>\n",
       "  </thead>\n",
       "  <tbody>\n",
       "    <tr>\n",
       "      <th>0</th>\n",
       "      <td>107</td>\n",
       "      <td>12</td>\n",
       "      <td>4</td>\n",
       "      <td>968035345</td>\n",
       "      <td>Ed Wood (1994)</td>\n",
       "      <td>Comedy|Drama</td>\n",
       "      <td>0</td>\n",
       "      <td>2</td>\n",
       "      <td>4</td>\n",
       "      <td>35</td>\n",
       "    </tr>\n",
       "    <tr>\n",
       "      <th>1</th>\n",
       "      <td>123</td>\n",
       "      <td>169</td>\n",
       "      <td>3</td>\n",
       "      <td>966536874</td>\n",
       "      <td>Patriot Games (1992)</td>\n",
       "      <td>Action|Thriller</td>\n",
       "      <td>1</td>\n",
       "      <td>1</td>\n",
       "      <td>4</td>\n",
       "      <td>118</td>\n",
       "    </tr>\n",
       "    <tr>\n",
       "      <th>2</th>\n",
       "      <td>12</td>\n",
       "      <td>6</td>\n",
       "      <td>4</td>\n",
       "      <td>976203603</td>\n",
       "      <td>Bridges of Madison County, The (1995)</td>\n",
       "      <td>Drama|Romance</td>\n",
       "      <td>0</td>\n",
       "      <td>2</td>\n",
       "      <td>13</td>\n",
       "      <td>99</td>\n",
       "    </tr>\n",
       "    <tr>\n",
       "      <th>3</th>\n",
       "      <td>21</td>\n",
       "      <td>112</td>\n",
       "      <td>3</td>\n",
       "      <td>975430389</td>\n",
       "      <td>Indiana Jones and the Temple of Doom (1984)</td>\n",
       "      <td>Action|Adventure</td>\n",
       "      <td>1</td>\n",
       "      <td>1</td>\n",
       "      <td>18</td>\n",
       "      <td>55</td>\n",
       "    </tr>\n",
       "    <tr>\n",
       "      <th>4</th>\n",
       "      <td>187</td>\n",
       "      <td>45</td>\n",
       "      <td>5</td>\n",
       "      <td>957782527</td>\n",
       "      <td>Apartment, The (1960)</td>\n",
       "      <td>Comedy|Drama</td>\n",
       "      <td>1</td>\n",
       "      <td>5</td>\n",
       "      <td>19</td>\n",
       "      <td>41</td>\n",
       "    </tr>\n",
       "  </tbody>\n",
       "</table>\n",
       "</div>"
      ],
      "text/plain": [
       "   user_id  movie_id  rating  timestamp  \\\n",
       "0      107        12       4  968035345   \n",
       "1      123       169       3  966536874   \n",
       "2       12         6       4  976203603   \n",
       "3       21       112       3  975430389   \n",
       "4      187        45       5  957782527   \n",
       "\n",
       "                                         title            genres  gender  age  \\\n",
       "0                               Ed Wood (1994)      Comedy|Drama       0    2   \n",
       "1                         Patriot Games (1992)   Action|Thriller       1    1   \n",
       "2        Bridges of Madison County, The (1995)     Drama|Romance       0    2   \n",
       "3  Indiana Jones and the Temple of Doom (1984)  Action|Adventure       1    1   \n",
       "4                        Apartment, The (1960)      Comedy|Drama       1    5   \n",
       "\n",
       "   occupation  zip  \n",
       "0           4   35  \n",
       "1           4  118  \n",
       "2          13   99  \n",
       "3          18   55  \n",
       "4          19   41  "
      ]
     },
     "execution_count": 12,
     "metadata": {},
     "output_type": "execute_result"
    }
   ],
   "source": [
    "# 特征编码 LabelEncoder\n",
    "for feature in sparse_features:\n",
    "    lbe = LabelEncoder()\n",
    "    data[feature] = lbe.fit_transform(data[feature])\n",
    "data.head()"
   ]
  },
  {
   "cell_type": "code",
   "execution_count": 14,
   "metadata": {},
   "outputs": [],
   "source": [
    "# 计算每个特征中的 不同特征值的个数\n",
    "fixlen_feature_columns = [SparseFeat(feature, data[feature].nunique()) for feature in sparse_features]\n",
    "linear_feature_columns = fixlen_feature_columns # wide\n",
    "dnn_feature_columns = fixlen_feature_columns    # deep\n"
   ]
  },
  {
   "cell_type": "code",
   "execution_count": 16,
   "metadata": {},
   "outputs": [
    {
     "data": {
      "text/plain": [
       "['movie_id', 'user_id', 'gender', 'age', 'occupation', 'zip']"
      ]
     },
     "execution_count": 16,
     "metadata": {},
     "output_type": "execute_result"
    }
   ],
   "source": [
    "# 组合特征\n",
    "feature_names = get_feature_names(linear_feature_columns + dnn_feature_columns)\n",
    "feature_names[:10]"
   ]
  },
  {
   "cell_type": "code",
   "execution_count": 17,
   "metadata": {},
   "outputs": [
    {
     "data": {
      "text/plain": [
       "SparseFeat(name='userId', vocabulary_size=7120, embedding_dim=4, use_hash=False, dtype='int32', embeddings_initializer=<tensorflow.python.keras.initializers.RandomNormal object at 0x00000258B4C44518>, embedding_name='userId', group_name='default_group', trainable=True)"
      ]
     },
     "execution_count": 17,
     "metadata": {},
     "output_type": "execute_result"
    }
   ],
   "source": [
    "SparseFeat(name='userId', vocabulary_size=7120, embedding_dim=4)"
   ]
  },
  {
   "cell_type": "code",
   "execution_count": 21,
   "metadata": {},
   "outputs": [],
   "source": [
    "# 拆分数据集\n",
    "train, test = train_test_split(data, test_size=0.2,random_state=2)\n",
    "train_model_input = {name:train[name].values for name in feature_names}\n",
    "test_model_input = {name:test[name].values for name in feature_names}"
   ]
  },
  {
   "cell_type": "code",
   "execution_count": 37,
   "metadata": {},
   "outputs": [
    {
     "name": "stdout",
     "output_type": "stream",
     "text": [
      "Train on 128 samples, validate on 32 samples\n",
      "Epoch 1/10\n",
      "128/128 [==============================] - 5s 42ms/step - loss: 14.4841 - mean_squared_error: 14.4841 - val_loss: 14.0235 - val_mean_squared_error: 14.0235\n",
      "Epoch 2/10\n",
      "128/128 [==============================] - 0s 242us/step - loss: 14.3645 - mean_squared_error: 14.3645 - val_loss: 13.8944 - val_mean_squared_error: 13.8944\n",
      "Epoch 3/10\n",
      "128/128 [==============================] - 0s 117us/step - loss: 14.2112 - mean_squared_error: 14.2112 - val_loss: 13.7451 - val_mean_squared_error: 13.7451\n",
      "Epoch 4/10\n",
      "128/128 [==============================] - 0s 125us/step - loss: 14.0341 - mean_squared_error: 14.0341 - val_loss: 13.5766 - val_mean_squared_error: 13.5766\n",
      "Epoch 5/10\n",
      "128/128 [==============================] - 0s 132us/step - loss: 13.8351 - mean_squared_error: 13.8351 - val_loss: 13.3882 - val_mean_squared_error: 13.3882\n",
      "Epoch 6/10\n",
      "128/128 [==============================] - 0s 203us/step - loss: 13.6120 - mean_squared_error: 13.6120 - val_loss: 13.1786 - val_mean_squared_error: 13.1786\n",
      "Epoch 7/10\n",
      "128/128 [==============================] - 0s 171us/step - loss: 13.3635 - mean_squared_error: 13.3635 - val_loss: 12.9456 - val_mean_squared_error: 12.9456\n",
      "Epoch 8/10\n",
      "128/128 [==============================] - 0s 140us/step - loss: 13.0881 - mean_squared_error: 13.0881 - val_loss: 12.6876 - val_mean_squared_error: 12.6876\n",
      "Epoch 9/10\n",
      "128/128 [==============================] - 0s 117us/step - loss: 12.7837 - mean_squared_error: 12.7837 - val_loss: 12.4036 - val_mean_squared_error: 12.4036\n",
      "Epoch 10/10\n",
      "128/128 [==============================] - 0s 109us/step - loss: 12.4479 - mean_squared_error: 12.4479 - val_loss: 12.0919 - val_mean_squared_error: 12.0919\n"
     ]
    },
    {
     "data": {
      "text/plain": [
       "{'val_loss': [14.023487091064453,\n",
       "  13.894397735595703,\n",
       "  13.745122909545898,\n",
       "  13.576619148254395,\n",
       "  13.388205528259277,\n",
       "  13.178598403930664,\n",
       "  12.945561408996582,\n",
       "  12.687649726867676,\n",
       "  12.403573989868164,\n",
       "  12.091909408569336],\n",
       " 'val_mean_squared_error': [14.023487091064453,\n",
       "  13.894397735595703,\n",
       "  13.745122909545898,\n",
       "  13.576619148254395,\n",
       "  13.388205528259277,\n",
       "  13.178598403930664,\n",
       "  12.945561408996582,\n",
       "  12.687649726867676,\n",
       "  12.403573989868164,\n",
       "  12.091909408569336],\n",
       " 'loss': [14.484066009521484,\n",
       "  14.364548683166504,\n",
       "  14.211223602294922,\n",
       "  14.034136772155762,\n",
       "  13.835051536560059,\n",
       "  13.611959457397461,\n",
       "  13.363523483276367,\n",
       "  13.088102340698242,\n",
       "  12.783679962158203,\n",
       "  12.447925567626953],\n",
       " 'mean_squared_error': [14.484066009521484,\n",
       "  14.364548683166504,\n",
       "  14.211223602294922,\n",
       "  14.034136772155762,\n",
       "  13.835051536560059,\n",
       "  13.611959457397461,\n",
       "  13.363523483276367,\n",
       "  13.088102340698242,\n",
       "  12.783679962158203,\n",
       "  12.447925567626953]}"
      ]
     },
     "execution_count": 37,
     "metadata": {},
     "output_type": "execute_result"
    }
   ],
   "source": [
    "# 建模：WDL\n",
    "model = WDL(linear_feature_columns, \n",
    "            dnn_feature_columns, \n",
    "            task='regression',\n",
    "            dnn_hidden_units=(256,256)\n",
    "           )\n",
    "# 编译模型\n",
    "model.compile(optimizer=\"adam\",loss= \"mse\", metrics=['mse']) \n",
    "\n",
    "# Train\n",
    "history = model.fit(train_model_input, \n",
    "                    train[target].values, \n",
    "                    batch_size=256, \n",
    "                    epochs=10, \n",
    "                    verbose=1, \n",
    "                    validation_split=0.2,\n",
    "                    workers=2\n",
    "                   )\n",
    "# 输出在连续时期训练损失值和度量值以及验证损失值和验证度量值（如果适用）的记录\n",
    "hist = history.history\n",
    "hist"
   ]
  },
  {
   "cell_type": "code",
   "execution_count": 41,
   "metadata": {},
   "outputs": [
    {
     "data": {
      "text/plain": [
       "dict_keys(['val_loss', 'val_mean_squared_error', 'loss', 'mean_squared_error'])"
      ]
     },
     "execution_count": 41,
     "metadata": {},
     "output_type": "execute_result"
    }
   ],
   "source": [
    "hist.keys()"
   ]
  },
  {
   "cell_type": "code",
   "execution_count": 56,
   "metadata": {},
   "outputs": [
    {
     "data": {
      "text/plain": [
       "<matplotlib.legend.Legend at 0x258f3a4f0f0>"
      ]
     },
     "execution_count": 56,
     "metadata": {},
     "output_type": "execute_result"
    },
    {
     "data": {
      "image/png": "[encoded data removed]",
      "text/plain": [
       "<Figure size 432x288 with 2 Axes>"
      ]
     },
     "metadata": {},
     "output_type": "display_data"
    }
   ],
   "source": [
    "# \n",
    "import matplotlib.pylab as plt\n",
    "%matplotlib inline\n",
    "\n",
    "plt.subplot(1,2,1)\n",
    "plt.plot(list(range(10)), hist['val_loss'], color='r', label='train loss')\n",
    "plt.plot(list(range(10)), hist['loss'], color='b', label='test loss')\n",
    "plt.legend()\n",
    "plt.subplot(1,2,2)\n",
    "plt.plot(list(range(10)), hist['mean_squared_error'], color='r', label='train MSE')\n",
    "plt.plot(list(range(10)), hist['val_mean_squared_error'], color='b', label='test MSE')\n",
    "plt.legend()\n",
    "# plt.show()"
   ]
  },
  {
   "cell_type": "code",
   "execution_count": 57,
   "metadata": {},
   "outputs": [
    {
     "data": {
      "text/plain": [
       "array([[0.29604125],\n",
       "       [0.29555818],\n",
       "       [0.29606527],\n",
       "       [0.29544395],\n",
       "       [0.29584858]], dtype=float32)"
      ]
     },
     "execution_count": 57,
     "metadata": {},
     "output_type": "execute_result"
    }
   ],
   "source": [
    "# Predict\n",
    "test_pred = model.predict(test_model_input, batch_size=256)\n",
    "test_pred[:5]"
   ]
  },
  {
   "cell_type": "code",
   "execution_count": 60,
   "metadata": {},
   "outputs": [
    {
     "name": "stdout",
     "output_type": "stream",
     "text": [
      "test RMSE 3.3295194848506293\n"
     ]
    }
   ],
   "source": [
    "# MSE or RMSE\n",
    "mse = round(mean_squared_error(test[target].values, test_pred), 4)\n",
    "rmse = mse ** 0.5\n",
    "print(\"test RMSE\", rmse)"
   ]
  }
 ],
 "metadata": {
  "kernelspec": {
   "display_name": "Python 3",
   "language": "python",
   "name": "python3"
  },
  "language_info": {
   "codemirror_mode": {
    "name": "ipython",
    "version": 3
   },
   "file_extension": ".py",
   "mimetype": "text/x-python",
   "name": "python",
   "nbconvert_exporter": "python",
   "pygments_lexer": "ipython3",
   "version": "3.6.5"
  }
 },
 "nbformat": 4,
 "nbformat_minor": 2
}
